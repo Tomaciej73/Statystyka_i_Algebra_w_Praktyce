{
  "cells": [
    {
      "cell_type": "markdown",
      "metadata": {},
      "source": [
        "Ładowanie bazy danych"
      ]
    },
    {
      "cell_type": "code",
      "execution_count": 1,
      "metadata": {
        "id": "M4TGj1lsehVi",
        "vscode": {
          "languageId": "r"
        }
      },
      "outputs": [],
      "source": [
        "wine <- read.csv('wineR3.csv')"
      ]
    },
    {
      "cell_type": "code",
      "execution_count": 2,
      "metadata": {
        "colab": {
          "base_uri": "https://localhost:8080/"
        },
        "id": "Tdbj7XPke6YL",
        "outputId": "b261cafb-9ec6-4b99-ec6d-e362cc5a9c10",
        "vscode": {
          "languageId": "r"
        }
      },
      "outputs": [
        {
          "name": "stdout",
          "output_type": "stream",
          "text": [
            "'data.frame':\t178 obs. of  14 variables:\n",
            " $ Alcohol             : num  14.2 13.2 13.2 14.4 13.2 ...\n",
            " $ Malic.acid          : num  1.71 1.78 2.36 1.95 2.59 1.76 1.87 2.15 1.64 1.35 ...\n",
            " $ Ash                 : num  2.43 2.14 2.67 2.5 2.87 2.45 2.45 2.61 2.17 2.27 ...\n",
            " $ Acl                 : num  15.6 11.2 18.6 16.8 21 15.2 14.6 17.6 14 16 ...\n",
            " $ Mg                  : int  127 100 101 113 118 112 96 121 97 98 ...\n",
            " $ Phenols             : num  2.8 2.65 2.8 3.85 2.8 3.27 2.5 2.6 2.8 2.98 ...\n",
            " $ Flavanoids          : num  3.06 2.76 3.24 3.49 2.69 3.39 2.52 2.51 2.98 3.15 ...\n",
            " $ Nonflavanoid.phenols: num  0.28 0.26 0.3 0.24 0.39 0.34 0.3 0.31 0.29 0.22 ...\n",
            " $ Proanth             : num  2.29 1.28 2.81 2.18 1.82 1.97 1.98 1.25 1.98 1.85 ...\n",
            " $ Color.int           : num  5.64 4.38 5.68 7.8 4.32 6.75 5.25 5.05 5.2 7.22 ...\n",
            " $ Hue                 : num  1.04 1.05 1.03 0.86 1.04 1.05 1.02 1.06 1.08 1.01 ...\n",
            " $ OD                  : num  3.92 3.4 3.17 3.45 2.93 2.85 3.58 3.58 2.85 3.55 ...\n",
            " $ Proline             : int  1065 1050 1185 1480 735 1450 1290 1295 1045 1045 ...\n",
            " $ Wine                : int  1 1 1 1 1 1 1 1 1 1 ...\n"
          ]
        }
      ],
      "source": [
        "str(wine)"
      ]
    },
    {
      "cell_type": "markdown",
      "metadata": {},
      "source": [
        "Statystyka głównych składowych (PCA) ​"
      ]
    },
    {
      "cell_type": "code",
      "execution_count": 3,
      "metadata": {
        "colab": {
          "base_uri": "https://localhost:8080/",
          "height": 312
        },
        "id": "4BfacT4Qe8q6",
        "outputId": "d1d2e5ce-e46b-421d-cb43-150b00107462",
        "vscode": {
          "languageId": "r"
        }
      },
      "outputs": [
        {
          "data": {
            "text/plain": [
              "Importance of components:\n",
              "                            Comp.1       Comp.2       Comp.3       Comp.4\n",
              "Standard deviation     314.0775636 13.098369709 3.0785792121 2.252144e+00\n",
              "Proportion of Variance   0.9980876  0.001735919 0.0000958949 5.132007e-05\n",
              "Cumulative Proportion    0.9980876  0.999823544 0.9999194388 9.999708e-01\n",
              "                             Comp.5       Comp.6       Comp.7       Comp.8\n",
              "Standard deviation     1.130736e+00 9.291336e-01 5.342233e-01 3.929461e-01\n",
              "Proportion of Variance 1.293652e-05 8.734764e-06 2.887623e-06 1.562287e-06\n",
              "Cumulative Proportion  9.999837e-01 9.999924e-01 9.999953e-01 9.999969e-01\n",
              "                             Comp.9      Comp.10      Comp.11      Comp.12\n",
              "Standard deviation     3.362951e-01 2.930753e-01 2.143433e-01 1.863628e-01\n",
              "Proportion of Variance 1.144289e-06 8.690673e-07 4.648520e-07 3.514092e-07\n",
              "Cumulative Proportion  9.999980e-01 9.999989e-01 9.999994e-01 9.999997e-01\n",
              "                            Comp.13      Comp.14\n",
              "Standard deviation     1.436873e-01 8.970616e-02\n",
              "Proportion of Variance 2.088966e-07 8.142155e-08\n",
              "Cumulative Proportion  9.999999e-01 1.000000e+00"
            ]
          },
          "metadata": {},
          "output_type": "display_data"
        }
      ],
      "source": [
        "wine.PCA <- princomp(wine)\n",
        "summary(wine.PCA)"
      ]
    },
    {
      "cell_type": "code",
      "execution_count": 4,
      "metadata": {
        "colab": {
          "base_uri": "https://localhost:8080/",
          "height": 34
        },
        "id": "bzK-yxKmfE3T",
        "outputId": "6a063ce0-f427-4102-949f-156448831084",
        "vscode": {
          "languageId": "r"
        }
      },
      "outputs": [
        {
          "data": {
            "text/html": [
              "<style>\n",
              ".list-inline {list-style: none; margin:0; padding: 0}\n",
              ".list-inline>li {display: inline-block}\n",
              ".list-inline>li:not(:last-child)::after {content: \"\\00b7\"; padding: 0 .5ex}\n",
              "</style>\n",
              "<ol class=list-inline><li>'Alcohol'</li><li>'Malic.acid'</li><li>'Ash'</li><li>'Acl'</li><li>'Mg'</li><li>'Phenols'</li><li>'Flavanoids'</li><li>'Nonflavanoid.phenols'</li><li>'Proanth'</li><li>'Color.int'</li><li>'Hue'</li><li>'OD'</li><li>'Proline'</li><li>'Wine'</li></ol>\n"
            ],
            "text/latex": [
              "\\begin{enumerate*}\n",
              "\\item 'Alcohol'\n",
              "\\item 'Malic.acid'\n",
              "\\item 'Ash'\n",
              "\\item 'Acl'\n",
              "\\item 'Mg'\n",
              "\\item 'Phenols'\n",
              "\\item 'Flavanoids'\n",
              "\\item 'Nonflavanoid.phenols'\n",
              "\\item 'Proanth'\n",
              "\\item 'Color.int'\n",
              "\\item 'Hue'\n",
              "\\item 'OD'\n",
              "\\item 'Proline'\n",
              "\\item 'Wine'\n",
              "\\end{enumerate*}\n"
            ],
            "text/markdown": [
              "1. 'Alcohol'\n",
              "2. 'Malic.acid'\n",
              "3. 'Ash'\n",
              "4. 'Acl'\n",
              "5. 'Mg'\n",
              "6. 'Phenols'\n",
              "7. 'Flavanoids'\n",
              "8. 'Nonflavanoid.phenols'\n",
              "9. 'Proanth'\n",
              "10. 'Color.int'\n",
              "11. 'Hue'\n",
              "12. 'OD'\n",
              "13. 'Proline'\n",
              "14. 'Wine'\n",
              "\n",
              "\n"
            ],
            "text/plain": [
              " [1] \"Alcohol\"              \"Malic.acid\"           \"Ash\"                 \n",
              " [4] \"Acl\"                  \"Mg\"                   \"Phenols\"             \n",
              " [7] \"Flavanoids\"           \"Nonflavanoid.phenols\" \"Proanth\"             \n",
              "[10] \"Color.int\"            \"Hue\"                  \"OD\"                  \n",
              "[13] \"Proline\"              \"Wine\"                "
            ]
          },
          "metadata": {},
          "output_type": "display_data"
        }
      ],
      "source": [
        "colnames(wine)"
      ]
    },
    {
      "cell_type": "code",
      "execution_count": 17,
      "metadata": {
        "colab": {
          "base_uri": "https://localhost:8080/"
        },
        "id": "IEz977FCgZt-",
        "outputId": "d4777016-9008-4059-e922-ff1ef9b22284",
        "vscode": {
          "languageId": "r"
        }
      },
      "outputs": [
        {
          "name": "stderr",
          "output_type": "stream",
          "text": [
            "Installing package into ‘/usr/local/lib/R/site-library’\n",
            "(as ‘lib’ is unspecified)\n",
            "\n"
          ]
        }
      ],
      "source": [
        "install.packages(\"lattice\")"
      ]
    },
    {
      "cell_type": "markdown",
      "metadata": {},
      "source": [
        "Ładowanie biblioteki vegan i niezbędnych pakietów do analizy RDA. Wyniki modelowania RDA (wartości własne RDA zmiennych, korelacja r2 z osią PC1 i całego modelu RDA )​"
      ]
    },
    {
      "cell_type": "code",
      "execution_count": 19,
      "metadata": {
        "colab": {
          "base_uri": "https://localhost:8080/"
        },
        "id": "7BwkLYT0hMy9",
        "outputId": "4d1a3280-790a-4fc1-c6c9-1bb0219832b8",
        "vscode": {
          "languageId": "r"
        }
      },
      "outputs": [
        {
          "name": "stderr",
          "output_type": "stream",
          "text": [
            "Loading required package: permute\n",
            "\n",
            "Loading required package: lattice\n",
            "\n",
            "This is vegan 2.6-8\n",
            "\n"
          ]
        }
      ],
      "source": [
        "library(vegan)"
      ]
    },
    {
      "cell_type": "code",
      "execution_count": 20,
      "metadata": {
        "id": "_juRoVq2fHED",
        "vscode": {
          "languageId": "r"
        }
      },
      "outputs": [],
      "source": [
        "wine.rda <- rda(wine ~ Alcohol + Malic.acid + Ash + Acl + Mg + Phenols + Flavanoids + Nonflavanoid.phenols + Proanth + Color.int + Hue + OD + Proline, data = wine, scale = T)"
      ]
    },
    {
      "cell_type": "code",
      "execution_count": 21,
      "metadata": {
        "colab": {
          "base_uri": "https://localhost:8080/",
          "height": 399
        },
        "id": "Uhu0HOdLgn3t",
        "outputId": "84c65b49-6619-4c80-9c70-7521a6dc0e7a",
        "vscode": {
          "languageId": "r"
        }
      },
      "outputs": [
        {
          "data": {
            "text/plain": [
              "Call: rda(formula = wine ~ Alcohol + Malic.acid + Ash + Acl + Mg + Phenols\n",
              "+ Flavanoids + Nonflavanoid.phenols + Proanth + Color.int + Hue + OD +\n",
              "Proline, data = wine, scale = T)\n",
              "\n",
              "-- Model Summary --\n",
              "\n",
              "                Inertia Proportion Rank\n",
              "Total         14.000000   1.000000     \n",
              "Constrained   13.900089   0.992863   13\n",
              "Unconstrained  0.099911   0.007137    1\n",
              "\n",
              "Inertia is correlations\n",
              "\n",
              "-- Eigenvalues --\n",
              "\n",
              "Eigenvalues for constrained axes:\n",
              " RDA1  RDA2  RDA3  RDA4  RDA5  RDA6  RDA7  RDA8  RDA9 RDA10 RDA11 RDA12 RDA13 \n",
              "5.521 2.497 1.446 0.927 0.875 0.669 0.553 0.350 0.293 0.259 0.226 0.169 0.115 \n",
              "\n",
              "Eigenvalues for unconstrained axes:\n",
              "    PC1 \n",
              "0.09991 \n"
            ]
          },
          "metadata": {},
          "output_type": "display_data"
        }
      ],
      "source": [
        "wine.rda"
      ]
    },
    {
      "cell_type": "code",
      "execution_count": 22,
      "metadata": {
        "colab": {
          "base_uri": "https://localhost:8080/",
          "height": 114
        },
        "id": "XfufWoAigptF",
        "outputId": "e817f963-d674-4805-90a3-320817607756",
        "vscode": {
          "languageId": "r"
        }
      },
      "outputs": [
        {
          "data": {
            "text/html": [
              "<dl>\n",
              "\t<dt>$r.squared</dt>\n",
              "\t\t<dd>0.992863489924635</dd>\n",
              "\t<dt>$adj.r.squared</dt>\n",
              "\t\t<dd>0.992297790955247</dd>\n",
              "</dl>\n"
            ],
            "text/latex": [
              "\\begin{description}\n",
              "\\item[\\$r.squared] 0.992863489924635\n",
              "\\item[\\$adj.r.squared] 0.992297790955247\n",
              "\\end{description}\n"
            ],
            "text/markdown": [
              "$r.squared\n",
              ":   0.992863489924635\n",
              "$adj.r.squared\n",
              ":   0.992297790955247\n",
              "\n",
              "\n"
            ],
            "text/plain": [
              "$r.squared\n",
              "[1] 0.9928635\n",
              "\n",
              "$adj.r.squared\n",
              "[1] 0.9922978\n"
            ]
          },
          "metadata": {},
          "output_type": "display_data"
        }
      ],
      "source": [
        "RsquareAdj(wine.rda)"
      ]
    },
    {
      "cell_type": "markdown",
      "metadata": {},
      "source": [
        "Wykres osypiska RDA i miary modelu RDA (test permutacji, wariancja, wspłczynnik F i poziom istotności)"
      ]
    },
    {
      "cell_type": "code",
      "execution_count": 23,
      "metadata": {
        "colab": {
          "base_uri": "https://localhost:8080/",
          "height": 437
        },
        "id": "5eeLd1-8gvtV",
        "outputId": "a27d3ff8-1f60-467f-b5e9-3ffdc6a99f1e",
        "vscode": {
          "languageId": "r"
        }
      },
      "outputs": [
        {
          "data": {
            "image/png": "[encoded data removed]",
            "text/plain": [
              "Plot with title “wine.rda”"
            ]
          },
          "metadata": {
            "image/png": {
              "height": 420,
              "width": 420
            }
          },
          "output_type": "display_data"
        }
      ],
      "source": [
        "screeplot(wine.rda)"
      ]
    },
    {
      "cell_type": "code",
      "execution_count": 24,
      "metadata": {
        "id": "LD4N8pB4hRqs",
        "vscode": {
          "languageId": "r"
        }
      },
      "outputs": [],
      "source": [
        "signif.full <- anova.cca(wine.rda, parallel=getOption('mc.cores'))"
      ]
    },
    {
      "cell_type": "code",
      "execution_count": 25,
      "metadata": {
        "colab": {
          "base_uri": "https://localhost:8080/",
          "height": 161
        },
        "id": "tg6k9njAhaBc",
        "outputId": "98e4e1fe-baa1-46cb-b065-fa064357d505",
        "vscode": {
          "languageId": "r"
        }
      },
      "outputs": [
        {
          "data": {
            "text/html": [
              "<table class=\"dataframe\">\n",
              "<caption>A anova.cca: 2 × 4</caption>\n",
              "<thead>\n",
              "\t<tr><th></th><th scope=col>Df</th><th scope=col>Variance</th><th scope=col>F</th><th scope=col>Pr(&gt;F)</th></tr>\n",
              "\t<tr><th></th><th scope=col>&lt;dbl&gt;</th><th scope=col>&lt;dbl&gt;</th><th scope=col>&lt;dbl&gt;</th><th scope=col>&lt;dbl&gt;</th></tr>\n",
              "</thead>\n",
              "<tbody>\n",
              "\t<tr><th scope=row>Model</th><td> 13</td><td>13.90008886</td><td>1755.109</td><td>0.001</td></tr>\n",
              "\t<tr><th scope=row>Residual</th><td>164</td><td> 0.09991114</td><td>      NA</td><td>   NA</td></tr>\n",
              "</tbody>\n",
              "</table>\n"
            ],
            "text/latex": [
              "A anova.cca: 2 × 4\n",
              "\\begin{tabular}{r|llll}\n",
              "  & Df & Variance & F & Pr(>F)\\\\\n",
              "  & <dbl> & <dbl> & <dbl> & <dbl>\\\\\n",
              "\\hline\n",
              "\tModel &  13 & 13.90008886 & 1755.109 & 0.001\\\\\n",
              "\tResidual & 164 &  0.09991114 &       NA &    NA\\\\\n",
              "\\end{tabular}\n"
            ],
            "text/markdown": [
              "\n",
              "A anova.cca: 2 × 4\n",
              "\n",
              "| <!--/--> | Df &lt;dbl&gt; | Variance &lt;dbl&gt; | F &lt;dbl&gt; | Pr(&gt;F) &lt;dbl&gt; |\n",
              "|---|---|---|---|---|\n",
              "| Model |  13 | 13.90008886 | 1755.109 | 0.001 |\n",
              "| Residual | 164 |  0.09991114 |       NA |    NA |\n",
              "\n"
            ],
            "text/plain": [
              "         Df  Variance    F        Pr(>F)\n",
              "Model     13 13.90008886 1755.109 0.001 \n",
              "Residual 164  0.09991114       NA    NA "
            ]
          },
          "metadata": {},
          "output_type": "display_data"
        }
      ],
      "source": [
        "signif.full"
      ]
    },
    {
      "cell_type": "markdown",
      "metadata": {},
      "source": [
        "Diagnostyka modelu. Funkcja vif.cca podaje współczynniki inflacji wariancji dla każdej zmiennej w modelu."
      ]
    },
    {
      "cell_type": "code",
      "execution_count": 26,
      "metadata": {
        "colab": {
          "base_uri": "https://localhost:8080/",
          "height": 86
        },
        "id": "nLWp4egKhli2",
        "outputId": "3c8ca68b-3f01-41d3-a1d8-9fa0915caf6a",
        "vscode": {
          "languageId": "r"
        }
      },
      "outputs": [
        {
          "data": {
            "text/html": [
              "<style>\n",
              ".dl-inline {width: auto; margin:0; padding: 0}\n",
              ".dl-inline>dt, .dl-inline>dd {float: none; width: auto; display: inline-block}\n",
              ".dl-inline>dt::after {content: \":\\0020\"; padding-right: .5ex}\n",
              ".dl-inline>dt:not(:first-of-type) {padding-left: .5ex}\n",
              "</style><dl class=dl-inline><dt>Alcohol</dt><dd>2.46037150136705</dd><dt>Malic.acid</dt><dd>1.65664746935281</dd><dt>Ash</dt><dd>2.18544792606724</dd><dt>Acl</dt><dd>2.23873208437266</dd><dt>Mg</dt><dd>1.41785470710684</dd><dt>Phenols</dt><dd>4.33451862946414</dd><dt>Flavanoids</dt><dd>7.02934997059379</dd><dt>Nonflavanoid.phenols</dt><dd>1.7963797768435</dd><dt>Proanth</dt><dd>1.97568302764856</dd><dt>Color.int</dt><dd>3.02630359966061</dd><dt>Hue</dt><dd>2.55144717563649</dd><dt>OD</dt><dd>3.785473466861</dd><dt>Proline</dt><dd>2.82384905790757</dd></dl>\n"
            ],
            "text/latex": [
              "\\begin{description*}\n",
              "\\item[Alcohol] 2.46037150136705\n",
              "\\item[Malic.acid] 1.65664746935281\n",
              "\\item[Ash] 2.18544792606724\n",
              "\\item[Acl] 2.23873208437266\n",
              "\\item[Mg] 1.41785470710684\n",
              "\\item[Phenols] 4.33451862946414\n",
              "\\item[Flavanoids] 7.02934997059379\n",
              "\\item[Nonflavanoid.phenols] 1.7963797768435\n",
              "\\item[Proanth] 1.97568302764856\n",
              "\\item[Color.int] 3.02630359966061\n",
              "\\item[Hue] 2.55144717563649\n",
              "\\item[OD] 3.785473466861\n",
              "\\item[Proline] 2.82384905790757\n",
              "\\end{description*}\n"
            ],
            "text/markdown": [
              "Alcohol\n",
              ":   2.46037150136705Malic.acid\n",
              ":   1.65664746935281Ash\n",
              ":   2.18544792606724Acl\n",
              ":   2.23873208437266Mg\n",
              ":   1.41785470710684Phenols\n",
              ":   4.33451862946414Flavanoids\n",
              ":   7.02934997059379Nonflavanoid.phenols\n",
              ":   1.7963797768435Proanth\n",
              ":   1.97568302764856Color.int\n",
              ":   3.02630359966061Hue\n",
              ":   2.55144717563649OD\n",
              ":   3.785473466861Proline\n",
              ":   2.82384905790757\n",
              "\n"
            ],
            "text/plain": [
              "             Alcohol           Malic.acid                  Ash \n",
              "            2.460372             1.656647             2.185448 \n",
              "                 Acl                   Mg              Phenols \n",
              "            2.238732             1.417855             4.334519 \n",
              "          Flavanoids Nonflavanoid.phenols              Proanth \n",
              "            7.029350             1.796380             1.975683 \n",
              "           Color.int                  Hue                   OD \n",
              "            3.026304             2.551447             3.785473 \n",
              "             Proline \n",
              "            2.823849 "
            ]
          },
          "metadata": {},
          "output_type": "display_data"
        }
      ],
      "source": [
        "vif.cca(wine.rda)"
      ]
    },
    {
      "cell_type": "markdown",
      "metadata": {},
      "source": [
        "Wykres osi współrzędnych i ordynacji RDA oraz histogramy poszczególnych ordynacji RDA1 - ….RDA13"
      ]
    },
    {
      "cell_type": "code",
      "execution_count": 27,
      "metadata": {
        "colab": {
          "base_uri": "https://localhost:8080/",
          "height": 437
        },
        "id": "EV_Eph3PhogG",
        "outputId": "62c7ee60-0148-4913-9714-ea42528606e0",
        "vscode": {
          "languageId": "r"
        }
      },
      "outputs": [
        {
          "data": {
            "image/png": "[encoded data removed]",
            "text/plain": [
              "plot without title"
            ]
          },
          "metadata": {
            "image/png": {
              "height": 420,
              "width": 420
            }
          },
          "output_type": "display_data"
        }
      ],
      "source": [
        "plot(wine.rda, scaling=3)"
      ]
    },
    {
      "cell_type": "code",
      "execution_count": 31,
      "metadata": {
        "id": "PsP_WjC-hxjV",
        "vscode": {
          "languageId": "r"
        }
      },
      "outputs": [],
      "source": [
        "load.rda <- scores(wine.rda, choices=c(1:3), display='species')"
      ]
    },
    {
      "cell_type": "code",
      "execution_count": 37,
      "metadata": {
        "id": "8MmQyy8ai4Tv",
        "vscode": {
          "languageId": "r"
        }
      },
      "outputs": [],
      "source": [
        "outliers <- function(x, z) {\n",
        "  lims <- mean(x) + c(-1, 1) * z * sd(x)\n",
        "  return(x[x < lims[1] | x > lims[2]])\n",
        "}"
      ]
    },
    {
      "cell_type": "code",
      "execution_count": 38,
      "metadata": {
        "colab": {
          "base_uri": "https://localhost:8080/",
          "height": 437
        },
        "id": "mSurtriCippn",
        "outputId": "b19a221a-0fdb-46a6-c216-abb683c7bd79",
        "vscode": {
          "languageId": "r"
        }
      },
      "outputs": [
        {
          "data": {
            "image/png": "[encoded data removed]",
            "text/plain": [
              "Plot with title “Loadings on RDA1”"
            ]
          },
          "metadata": {
            "image/png": {
              "height": 420,
              "width": 420
            }
          },
          "output_type": "display_data"
        }
      ],
      "source": [
        "hist(load.rda[,1], main='Loadings on RDA1')"
      ]
    },
    {
      "cell_type": "code",
      "execution_count": 39,
      "metadata": {
        "colab": {
          "base_uri": "https://localhost:8080/",
          "height": 437
        },
        "id": "IQnxuxY6i5_x",
        "outputId": "0fe2367a-b9ec-469f-9e9d-29a43fdf79d8",
        "vscode": {
          "languageId": "r"
        }
      },
      "outputs": [
        {
          "data": {
            "image/png": "[encoded data removed]",
            "text/plain": [
              "Plot with title “Loadings on RDA2”"
            ]
          },
          "metadata": {
            "image/png": {
              "height": 420,
              "width": 420
            }
          },
          "output_type": "display_data"
        }
      ],
      "source": [
        "hist(load.rda[,2], main='Loadings on RDA2')"
      ]
    }
  ],
  "metadata": {
    "colab": {
      "provenance": []
    },
    "kernelspec": {
      "display_name": "R",
      "name": "ir"
    },
    "language_info": {
      "name": "R"
    }
  },
  "nbformat": 4,
  "nbformat_minor": 0
}
