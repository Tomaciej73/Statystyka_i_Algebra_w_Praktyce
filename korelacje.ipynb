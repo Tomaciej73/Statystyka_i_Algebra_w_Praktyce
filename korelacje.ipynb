{
  "cells": [
    {
      "cell_type": "markdown",
      "source": [
        "Kowariancja i współczynnik korelacji"
      ],
      "metadata": {},
      "id": "f1ca21ca"
    },
    {
      "cell_type": "code",
      "source": [
        "import pandas as pd\n",
        "import numpy as np\n",
        "x = list(range(-10, 11))\n",
        "y = [0, 2, 2, 2, 2, 2, 3, 3, 6, 7, 4, 7, 6, 6, 9, 4, 5, 5, 5, 10, 11, 12, 14]\n",
        "     \n",
        "x_, y_ = np.array(x), np.array(y)\n",
        "print(\"x_:\", x_)\n",
        "print(\"y_:\", y_)\n",
        "\n",
        "x__, y__ = pd.Series(x_), pd.Series(y_)\n",
        "print(\"x__:\", x__)\n",
        "print(\"y__:\", y__)\n",
        "\n",
        "#Kowariancja\n",
        "\n",
        "n = len(x)\n",
        "mean_x, mean_y = sum(x) / n, sum(y) / n\n",
        "cov_xy = (sum((x[k] - mean_x) * (y[k] - mean_y) for k in range(n)) / (n - 1))\n",
        "print(\"cov_xy\", cov_xy)"
      ],
      "outputs": [
        {
          "output_type": "stream",
          "name": "stdout",
          "text": "x_: [-10  -9  -8  -7  -6  -5  -4  -3  -2  -1   0   1   2   3   4   5   6   7\n   8   9  10]\ny_: [ 0  2  2  2  2  2  3  3  6  7  4  7  6  6  9  4  5  5  5 10 11 12 14]\nx__: 0    -10\n1     -9\n2     -8\n3     -7\n4     -6\n5     -5\n6     -4\n7     -3\n8     -2\n9     -1\n10     0\n11     1\n12     2\n13     3\n14     4\n15     5\n16     6\n17     7\n18     8\n19     9\n20    10\ndtype: int64\ny__: 0      0\n1      2\n2      2\n3      2\n4      2\n5      2\n6      3\n7      3\n8      6\n9      7\n10     4\n11     7\n12     6\n13     6\n14     9\n15     4\n16     5\n17     5\n18     5\n19    10\n20    11\n21    12\n22    14\ndtype: int64\ncov_xy 14.399999999999997\n"
        }
      ],
      "execution_count": 88,
      "metadata": {
        "ExecuteTime": {
          "end_time": "2024-10-09T17:01:04.458711500Z",
          "start_time": "2024-10-09T17:01:04.365834800Z"
        },
        "collapsed": true
      },
      "id": "initial_id"
    },
    {
      "cell_type": "code",
      "source": [
        "x = list(range(-10, 11))\n",
        "y = [0, 2, 2, 2, 2, 2, 3, 3, 6, 7, 4, 7, 6, 6, 9, 4, 5, 5, 5, 10, 11, 12, 14]\n",
        "\n",
        "y = y[:len(x)]\n",
        "\n",
        "x_, y_ = np.array(x), np.array(y)\n",
        "\n",
        "cov_matrix = np.cov(x_, y_)\n",
        "print(cov_matrix)\n",
        "\n",
        "print(x_.var(ddof=1))\n",
        "print(y_.var(ddof=1))"
      ],
      "outputs": [
        {
          "output_type": "stream",
          "name": "stdout",
          "text": "[[38.5        14.4       ]\n [14.4         8.36190476]]\n38.5\n8.361904761904764\n"
        }
      ],
      "execution_count": 89,
      "metadata": {
        "ExecuteTime": {
          "end_time": "2024-10-09T17:01:04.458711500Z",
          "start_time": "2024-10-09T17:01:04.407277700Z"
        },
        "collapsed": false
      },
      "id": "46b7ae63cb84135d"
    },
    {
      "cell_type": "code",
      "source": [
        "cov_xy = cov_matrix[0, 1]\n",
        "print(cov_xy)\n",
        "\n",
        "cov_xy = cov_matrix[1, 0]\n",
        "print(cov_xy)\n",
        "\n",
        "cov_xy = x__.cov(y__)\n",
        "print(cov_xy)\n",
        "\n",
        "cov_xy = y__.cov(x__)\n",
        "print(cov_xy)\n"
      ],
      "outputs": [
        {
          "output_type": "stream",
          "name": "stdout",
          "text": "14.4\n14.4\n14.4\n14.4\n"
        }
      ],
      "execution_count": 90,
      "metadata": {
        "ExecuteTime": {
          "end_time": "2024-10-09T17:01:04.458711500Z",
          "start_time": "2024-10-09T17:01:04.433057300Z"
        },
        "collapsed": false
      },
      "id": "c4b77358c1eb1ff1"
    },
    {
      "cell_type": "markdown",
      "source": [
        "Współczynnik korelacji"
      ],
      "metadata": {
        "collapsed": false
      },
      "id": "be7563a12554d437"
    },
    {
      "cell_type": "code",
      "source": [
        "import scipy\n",
        "var_x = sum((item - mean_x) ** 2 for item in x) / (n - 1)\n",
        "var_y = sum((item - mean_y) ** 2 for item in y) / (n - 1)\n",
        "std_x, std_y = var_x ** 0.5, var_y ** 0.5\n",
        "r = cov_xy / (std_x * std_y)\n",
        "print(r)\n",
        "\n",
        "r, p = scipy.stats.pearsonr(x_, y_)\n",
        "print(r)\n",
        "print(p)\n",
        "\n",
        "corr_matrix = np.corrcoef(x_, y_)\n",
        "print(corr_matrix)\n",
        "\n",
        "r = corr_matrix[0, 1]\n",
        "print(r)\n",
        "\n",
        "r = corr_matrix[1, 0]\n",
        "print(r)"
      ],
      "outputs": [
        {
          "output_type": "stream",
          "name": "stdout",
          "text": "0.7349426247202111\n0.8025637115387777\n1.19969957998742e-05\n[[1.         0.80256371]\n [0.80256371 1.        ]]\n0.8025637115387775\n0.8025637115387776\n"
        }
      ],
      "execution_count": 91,
      "metadata": {
        "ExecuteTime": {
          "end_time": "2024-10-09T17:01:04.484404600Z",
          "start_time": "2024-10-09T17:01:04.458711500Z"
        },
        "collapsed": false
      },
      "id": "d39d7322cf2b78dc"
    },
    {
      "cell_type": "markdown",
      "source": [
        "Korelacja ujemna"
      ],
      "metadata": {
        "collapsed": false
      },
      "id": "7e3b5bb6450c41e1"
    },
    {
      "cell_type": "code",
      "source": [
        "scipy.stats.linregress(x_, y_)\n",
        "\n",
        "result = scipy.stats.linregress(x_, y_)\n",
        "r = result.rvalue\n",
        "print(r)\n",
        "\n",
        "r = x__.corr(y__)\n",
        "print(r)\n",
        "\n",
        "r = y__.corr(x__)\n",
        "print(r)"
      ],
      "outputs": [
        {
          "output_type": "stream",
          "name": "stdout",
          "text": "0.8025637115387775\n0.8025637115387775\n0.8025637115387776\n"
        }
      ],
      "execution_count": 92,
      "metadata": {
        "ExecuteTime": {
          "end_time": "2024-10-09T17:01:04.551528700Z",
          "start_time": "2024-10-09T17:01:04.474396400Z"
        },
        "collapsed": false
      },
      "id": "607a0c6f17a0b15e"
    },
    {
      "cell_type": "markdown",
      "source": [
        "Praca z danymi 2D\n",
        "Osie(axis)"
      ],
      "metadata": {},
      "id": "97a4bd08"
    },
    {
      "cell_type": "code",
      "source": [
        "a = np.array([[1, 1, 1],\n",
        "              [2, 3, 1],\n",
        "              [4, 9, 2],\n",
        "              [8, 27, 4],\n",
        "              [16, 1, 1]])\n",
        "print(a)\n",
        "\n",
        "print(np.mean(a))\n",
        "print(a.mean())\n",
        "\n",
        "print(np.median(a))\n",
        "print(a.var(ddof=1))\n",
        "\n",
        "print(np.mean(a, axis=0))\n",
        "print(a.mean(axis=0))\n",
        "\n",
        "print(np.mean(a, axis=1))\n",
        "print(a.mean(axis=1))\n",
        "\n",
        "print(np.median(a, axis=0))\n",
        "print(np.median(a, axis=1))\n",
        "\n",
        "print(a.var(axis=0, ddof=1))\n",
        "print(a.var(axis=1, ddof=1))"
      ],
      "outputs": [
        {
          "output_type": "stream",
          "name": "stdout",
          "text": "[[ 1  1  1]\n [ 2  3  1]\n [ 4  9  2]\n [ 8 27  4]\n [16  1  1]]\n5.4\n5.4\n2.0\n53.40000000000001\n[6.2 8.2 1.8]\n[6.2 8.2 1.8]\n[ 1.  2.  5. 13.  6.]\n[ 1.  2.  5. 13.  6.]\n[4. 3. 1.]\n[1. 2. 4. 8. 1.]\n[ 37.2 121.2   1.7]\n[  0.   1.  13. 151.  75.]\n"
        }
      ],
      "execution_count": 93,
      "metadata": {
        "ExecuteTime": {
          "end_time": "2024-10-09T17:01:04.561537200Z",
          "start_time": "2024-10-09T17:01:04.500082500Z"
        },
        "collapsed": false
      },
      "id": "957c8c5bfcbdc873"
    },
    {
      "cell_type": "markdown",
      "source": [
        "Ramki danych(Data Frame)"
      ],
      "metadata": {},
      "id": "4161afde"
    },
    {
      "cell_type": "code",
      "source": [
        "print(scipy.stats.gmean(a))\n",
        "print(scipy.stats.gmean(a, axis=0))\n",
        "print(scipy.stats.gmean(a, axis=1))\n",
        "print(scipy.stats.gmean(a, axis=None))\n",
        "\n",
        "print(scipy.stats.describe(a, axis=None, ddof=1, bias=False))\n",
        "print(scipy.stats.describe(a, ddof=1, bias=False))\n",
        "print(scipy.stats.describe(a, axis=1, ddof=1, bias=False))\n",
        "\n",
        "result = scipy.stats.describe(a, axis=1, ddof=1, bias=False)\n",
        "print(result.mean)\n",
        "\n",
        "row_names = ['first', 'second', 'third', 'fourth', 'fifth']\n",
        "col_names = ['A', 'B', 'C']\n",
        "df = pd.DataFrame(a, index=row_names, columns=col_names)\n",
        "print(df)\n",
        "print(df.mean())\n",
        "print(df.var())\n",
        "print(df.mean(axis=1))\n",
        "print(df.var(axis=1))"
      ],
      "outputs": [
        {
          "output_type": "stream",
          "name": "stdout",
          "text": "[4.         3.73719282 1.51571657]\n[4.         3.73719282 1.51571657]\n[1.         1.81712059 4.16016765 9.52440631 2.5198421 ]\n2.829705017016332\nDescribeResult(nobs=15, minmax=(np.int64(1), np.int64(27)), mean=np.float64(5.4), variance=np.float64(53.40000000000001), skewness=np.float64(2.264965290423389), kurtosis=np.float64(5.212690982795767))\nDescribeResult(nobs=5, minmax=(array([1, 1, 1]), array([16, 27,  4])), mean=array([6.2, 8.2, 1.8]), variance=array([ 37.2, 121.2,   1.7]), skewness=array([1.32531471, 1.79809454, 1.71439233]), kurtosis=array([1.30376344, 3.14969121, 2.66435986]))\nDescribeResult(nobs=3, minmax=(array([1, 1, 2, 4, 1]), array([ 1,  3,  9, 27, 16])), mean=array([ 1.,  2.,  5., 13.,  6.]), variance=array([  0.,   1.,  13., 151.,  75.]), skewness=array([       nan, 0.        , 1.15206964, 1.52787436, 1.73205081]), kurtosis=array([ nan, -1.5, -1.5, -1.5, -1.5]))\n[ 1.  2.  5. 13.  6.]\n         A   B  C\nfirst    1   1  1\nsecond   2   3  1\nthird    4   9  2\nfourth   8  27  4\nfifth   16   1  1\nA    6.2\nB    8.2\nC    1.8\ndtype: float64\nA     37.2\nB    121.2\nC      1.7\ndtype: float64\nfirst      1.0\nsecond     2.0\nthird      5.0\nfourth    13.0\nfifth      6.0\ndtype: float64\nfirst       0.0\nsecond      1.0\nthird      13.0\nfourth    151.0\nfifth      75.0\ndtype: float64\n"
        }
      ],
      "execution_count": 94,
      "metadata": {
        "ExecuteTime": {
          "end_time": "2024-10-09T17:01:04.561537200Z",
          "start_time": "2024-10-09T17:01:04.525839100Z"
        },
        "collapsed": false
      },
      "id": "7aef902f689b56a5"
    },
    {
      "cell_type": "code",
      "source": [
        "print(df['A'])\n",
        "print(df['A'].mean())\n",
        "print(df['A'].var())"
      ],
      "outputs": [
        {
          "output_type": "stream",
          "name": "stdout",
          "text": "first      1\nsecond     2\nthird      4\nfourth     8\nfifth     16\nName: A, dtype: int64\n6.2\n37.20000000000001\n"
        }
      ],
      "execution_count": 95,
      "metadata": {
        "ExecuteTime": {
          "end_time": "2024-10-09T17:01:04.618541700Z",
          "start_time": "2024-10-09T17:01:04.551528700Z"
        },
        "collapsed": false
      },
      "id": "6b50c732c7de1b2e"
    },
    {
      "cell_type": "code",
      "source": [
        "print(df.values)\n",
        "print(df.to_numpy())\n"
      ],
      "outputs": [
        {
          "output_type": "stream",
          "name": "stdout",
          "text": "[[ 1  1  1]\n [ 2  3  1]\n [ 4  9  2]\n [ 8 27  4]\n [16  1  1]]\n[[ 1  1  1]\n [ 2  3  1]\n [ 4  9  2]\n [ 8 27  4]\n [16  1  1]]\n"
        }
      ],
      "execution_count": 96,
      "metadata": {
        "ExecuteTime": {
          "end_time": "2024-10-09T17:01:04.628554300Z",
          "start_time": "2024-10-09T17:01:04.577206Z"
        },
        "collapsed": false
      },
      "id": "11b209f0311a622f"
    },
    {
      "cell_type": "code",
      "source": [
        "print(df.describe())\n",
        "print(df.describe().at['mean','A'])\n",
        "print(df.describe().at['50%','A'])"
      ],
      "outputs": [
        {
          "output_type": "stream",
          "name": "stdout",
          "text": "              A          B        C\ncount   5.00000   5.000000  5.00000\nmean    6.20000   8.200000  1.80000\nstd     6.09918  11.009087  1.30384\nmin     1.00000   1.000000  1.00000\n25%     2.00000   1.000000  1.00000\n50%     4.00000   3.000000  1.00000\n75%     8.00000   9.000000  2.00000\nmax    16.00000  27.000000  4.00000\n6.2\n4.0\n"
        }
      ],
      "execution_count": 97,
      "metadata": {
        "ExecuteTime": {
          "end_time": "2024-10-09T17:01:04.628554300Z",
          "start_time": "2024-10-09T17:01:04.592854600Z"
        },
        "collapsed": false
      },
      "id": "dfac036adf10523b"
    },
    {
      "cell_type": "markdown",
      "source": [
        "Macierz korelacji wielu zmiennych"
      ],
      "metadata": {
        "collapsed": false
      },
      "id": "207bada2951d80"
    },
    {
      "cell_type": "code",
      "source": [
        "data = {\n",
        "    'x': [45, 37, 42, 35, 39],\n",
        "    'y': [38, 31, 26, 28, 33],\n",
        "    'z': [10, 15, 17, 21, 12]\n",
        "}\n",
        "\n",
        "dataframe = pd.DataFrame(data, columns=['x', 'y', 'z'])\n",
        "print(\"Dataframe is : \")\n",
        "print(dataframe)\n",
        "\n",
        "matrix = dataframe.corr()\n",
        "print(\"Correlation matrix is : \")\n",
        "print(matrix)\n"
      ],
      "outputs": [
        {
          "output_type": "stream",
          "name": "stdout",
          "text": "Dataframe is : \n    x   y   z\n0  45  38  10\n1  37  31  15\n2  42  26  17\n3  35  28  21\n4  39  33  12\nCorrelation matrix is : \n          x         y         z\nx  1.000000  0.518457 -0.701886\ny  0.518457  1.000000 -0.860941\nz -0.701886 -0.860941  1.000000\n"
        }
      ],
      "execution_count": 98,
      "metadata": {
        "ExecuteTime": {
          "end_time": "2024-10-09T17:01:04.669950400Z",
          "start_time": "2024-10-09T17:01:04.618541700Z"
        },
        "collapsed": false
      },
      "id": "4c9b8a1e235dd3c"
    },
    {
      "cell_type": "code",
      "source": [
        "from sklearn import datasets\n",
        "import pandas as pd\n",
        "\n",
        "dataset = datasets.load_iris()\n",
        "dataframe = pd.DataFrame(data=dataset.data, columns=dataset.feature_names)\n",
        "dataframe[\"target\"] = dataset.target\n",
        "\n",
        "matrix = dataframe.corr()\n",
        "print(matrix)"
      ],
      "outputs": [
        {
          "output_type": "stream",
          "name": "stdout",
          "text": "                   sepal length (cm)  sepal width (cm)  petal length (cm)  \\\nsepal length (cm)           1.000000         -0.117570           0.871754   \nsepal width (cm)           -0.117570          1.000000          -0.428440   \npetal length (cm)           0.871754         -0.428440           1.000000   \npetal width (cm)            0.817941         -0.366126           0.962865   \ntarget                      0.782561         -0.426658           0.949035   \n\n                   petal width (cm)    target  \nsepal length (cm)          0.817941  0.782561  \nsepal width (cm)          -0.366126 -0.426658  \npetal length (cm)          0.962865  0.949035  \npetal width (cm)           1.000000  0.956547  \ntarget                     0.956547  1.000000  \n"
        }
      ],
      "execution_count": 99,
      "metadata": {
        "ExecuteTime": {
          "end_time": "2024-10-09T17:01:04.669950400Z",
          "start_time": "2024-10-09T17:01:04.644292700Z"
        },
        "collapsed": false
      },
      "id": "9e4f9edd43ec1dd2"
    },
    {
      "cell_type": "markdown",
      "source": [
        "Wizualizacja macierzy Korelacji"
      ],
      "metadata": {
        "collapsed": false
      },
      "id": "5342b7a7bad8e251"
    },
    {
      "cell_type": "code",
      "source": [
        "import matplotlib.pyplot as plt\n",
        "import seaborn as sns\n",
        "from sklearn import datasets\n",
        "import pandas as pd\n",
        "\n",
        "dataset = datasets.load_iris()\n",
        "dataframe = pd.DataFrame(data=dataset.data, columns=dataset.feature_names)\n",
        "dataframe[\"target\"] = dataset.target\n",
        "matrix = dataframe.corr()\n",
        "\n",
        "sns.heatmap(matrix, cmap=\"Greens\", annot=True)\n"
      ],
      "outputs": [
        {
          "output_type": "execute_result",
          "execution_count": 100,
          "data": {
            "text/plain": "<Axes: >"
          },
          "metadata": {}
        },
        {
          "output_type": "display_data",
          "data": {
            "image/png": "[encoded data removed]",
            "text/plain": "<Figure size 640x480 with 2 Axes>"
          },
          "metadata": {}
        }
      ],
      "execution_count": 100,
      "metadata": {
        "ExecuteTime": {
          "end_time": "2024-10-09T17:01:04.882360700Z",
          "start_time": "2024-10-09T17:01:04.669950400Z"
        },
        "collapsed": false
      },
      "id": "bc09235b0c980653"
    },
    {
      "cell_type": "markdown",
      "source": [
        "Wieloraka regresja liniowa"
      ],
      "metadata": {
        "collapsed": false
      },
      "id": "17ff2bd3aac28557"
    },
    {
      "cell_type": "code",
      "source": [
        "import numpy as np\n",
        "import statsmodels.api as sm\n",
        "\n",
        "y = [1, 2, 3, 4, 3, 4, 5, 4, 5, 4, 5, 4, 5, 4, 5, 4, 5, 6, 5, 4, 5, 4, 3, 4]\n",
        "\n",
        "x = [\n",
        "    [4, 2, 3, 4, 5, 4, 5, 6, 7, 4, 8, 9, 8, 8, 6, 6, 5, 5, 5, 5, 5, 5, 5, 5],\n",
        "    [4, 1, 2, 3, 4, 5, 6, 7, 5, 8, 7, 8, 7, 8, 7, 8, 7, 7, 7, 7, 7, 7, 7, 6],\n",
        "    [4, 1, 2, 5, 6, 7, 8, 9, 7, 8, 7, 7, 7, 7, 7, 7, 7, 7, 6, 6, 4, 4, 4, 4]\n",
        "]\n",
        "\n",
        "def reg_m(y, x):\n",
        "    ones = np.ones(len(x[0]))\n",
        "    X = sm.add_constant(np.column_stack((x[0], ones)))\n",
        "    for ele in x[1:]:\n",
        "        X = sm.add_constant(np.column_stack((ele, X)))\n",
        "    results = sm.OLS(y, X).fit()\n",
        "    return results\n",
        "\n",
        "print(reg_m(y, x).summary())\n"
      ],
      "outputs": [
        {
          "output_type": "stream",
          "name": "stdout",
          "text": "                            OLS Regression Results                            \n==============================================================================\nDep. Variable:                      y   R-squared:                       0.404\nModel:                            OLS   Adj. R-squared:                  0.315\nMethod:                 Least Squares   F-statistic:                     4.526\nDate:                Wed, 09 Oct 2024   Prob (F-statistic):             0.0141\nTime:                        19:01:04   Log-Likelihood:                -29.615\nNo. Observations:                  24   AIC:                             67.23\nDf Residuals:                      20   BIC:                             71.94\nDf Model:                           3                                         \nCovariance Type:            nonrobust                                         \n==============================================================================\n                 coef    std err          t      P>|t|      [0.025      0.975]\n------------------------------------------------------------------------------\nx1             0.2047      0.134      1.526      0.143      -0.075       0.484\nx2             0.1649      0.145      1.139      0.268      -0.137       0.467\nx3             0.0346      0.157      0.221      0.828      -0.292       0.362\nconst          1.6987      0.706      2.405      0.026       0.225       3.172\n==============================================================================\nOmnibus:                        3.367   Durbin-Watson:                   2.013\nProb(Omnibus):                  0.186   Jarque-Bera (JB):                1.849\nSkew:                          -0.632   Prob(JB):                        0.397\nKurtosis:                       3.503   Cond. No.                         39.8\n==============================================================================\n\n"
        }
      ],
      "execution_count": 101,
      "metadata": {
        "ExecuteTime": {
          "end_time": "2024-10-09T17:01:04.975240100Z",
          "start_time": "2024-10-09T17:01:04.892369200Z"
        },
        "collapsed": false
      },
      "id": "c651179a0a31b0ee"
    },
    {
      "cell_type": "code",
      "source": [
        "import pandas as pd\n",
        "\n",
        "data = {\n",
        "    \"year\": [2017, 2017, 2017, 2017, 2017, 2017, 2017, 2017, 2017, 2017, 2017, 2017, \n",
        "             2016, 2016, 2016, 2016, 2016, 2016, 2016, 2016, 2016, 2016, 2016, 2016],\n",
        "    \"month\": [12, 11, 10, 9, 8, 7, 6, 5, 4, 3, 2, 1, 12, 11, 10, 9, 8, 7, 6, 5, 4, 3, 2, 1],\n",
        "    \"interest_rate\": [2.75, 2.5, 2.5, 2.5, 2.5, 2.5, 2.5, 2.25, 2.25, 2.25, 2.25, 2, 2, 2, \n",
        "                      1.75, 1.75, 1.75, 1.75, 1.75, 1.75, 1.75, 1.75, 1.75, 1.75],\n",
        "    \"unemployment_rate\": [5.3, 5.3, 5.3, 5.3, 5.4, 5.6, 5.5, 5.5, 5.5, 5.6, 5.7, 5.9, \n",
        "                          5.9, 5.8, 6.1, 6.2, 6.1, 6.1, 5.9, 6.2, 6.2, 6.1, 6.1, 6.1],\n",
        "    \"index_price\": [1464, 1394, 1357, 1293, 1256, 1254, 1234, 1195, 1159, 1167, 1130, \n",
        "                    1075, 1047, 965, 943, 958, 971, 949, 884, 866, 876, 822, 704, 719]\n",
        "}\n",
        "\n",
        "df = pd.DataFrame(data)\n",
        "\n",
        "print(df)"
      ],
      "outputs": [
        {
          "output_type": "stream",
          "name": "stdout",
          "text": "    year  month  interest_rate  unemployment_rate  index_price\n0   2017     12           2.75                5.3         1464\n1   2017     11           2.50                5.3         1394\n2   2017     10           2.50                5.3         1357\n3   2017      9           2.50                5.3         1293\n4   2017      8           2.50                5.4         1256\n5   2017      7           2.50                5.6         1254\n6   2017      6           2.50                5.5         1234\n7   2017      5           2.25                5.5         1195\n8   2017      4           2.25                5.5         1159\n9   2017      3           2.25                5.6         1167\n10  2017      2           2.25                5.7         1130\n11  2017      1           2.00                5.9         1075\n12  2016     12           2.00                5.9         1047\n13  2016     11           2.00                5.8          965\n14  2016     10           1.75                6.1          943\n15  2016      9           1.75                6.2          958\n16  2016      8           1.75                6.1          971\n17  2016      7           1.75                6.1          949\n18  2016      6           1.75                5.9          884\n19  2016      5           1.75                6.2          866\n20  2016      4           1.75                6.2          876\n21  2016      3           1.75                6.1          822\n22  2016      2           1.75                6.1          704\n23  2016      1           1.75                6.1          719\n"
        }
      ],
      "execution_count": 102,
      "metadata": {
        "ExecuteTime": {
          "end_time": "2024-10-09T17:01:04.985254200Z",
          "start_time": "2024-10-09T17:01:04.908048400Z"
        },
        "collapsed": false
      },
      "id": "2440e607b4bf3940"
    },
    {
      "cell_type": "markdown",
      "source": [
        "Sprawdzanie liniowości"
      ],
      "metadata": {},
      "id": "1518599d"
    },
    {
      "cell_type": "code",
      "source": [
        "import pandas as pd\n",
        "import matplotlib.pyplot as plt\n",
        "\n",
        "data = {\n",
        "    \"year\": [2017, 2017, 2017, 2017, 2017, 2017, 2017, 2017, 2017, 2017, 2017, 2017, \n",
        "             2016, 2016, 2016, 2016, 2016, 2016, 2016, 2016, 2016, 2016, 2016, 2016],\n",
        "    \"month\": [12, 11, 10, 9, 8, 7, 6, 5, 4, 3, 2, 1, 12, 11, 10, 9, 8, 7, 6, 5, 4, 3, 2, 1],\n",
        "    \"interest_rate\": [2.75, 2.5, 2.5, 2.5, 2.5, 2.5, 2.5, 2.25, 2.25, 2.25, 2.25, 2, 2, 2, \n",
        "                      1.75, 1.75, 1.75, 1.75, 1.75, 1.75, 1.75, 1.75, 1.75, 1.75],\n",
        "    \"unemployment_rate\": [5.3, 5.3, 5.3, 5.3, 5.4, 5.6, 5.5, 5.5, 5.5, 5.6, 5.7, 5.9, \n",
        "                          5.9, 5.8, 6.1, 6.2, 6.1, 6.1, 5.9, 6.2, 6.2, 6.1, 6.1, 6.1],\n",
        "    \"index_price\": [1464, 1394, 1357, 1293, 1256, 1254, 1234, 1195, 1159, 1167, 1130, \n",
        "                    1075, 1047, 965, 943, 958, 971, 949, 884, 866, 876, 822, 704, 719]\n",
        "}\n",
        "\n",
        "df = pd.DataFrame(data)\n",
        "\n",
        "plt.scatter(df[\"interest_rate\"], df[\"index_price\"], color=\"red\")\n",
        "plt.title(\"Index Price Vs Interest Rate\", fontsize=14)\n",
        "plt.xlabel(\"Interest Rate\", fontsize=14)\n",
        "plt.ylabel(\"Index Price\", fontsize=14)\n",
        "plt.grid(True)\n",
        "plt.show()\n"
      ],
      "outputs": [
        {
          "output_type": "display_data",
          "data": {
            "image/png": "[encoded data removed]",
            "text/plain": "<Figure size 640x480 with 1 Axes>"
          },
          "metadata": {}
        }
      ],
      "execution_count": 103,
      "metadata": {
        "ExecuteTime": {
          "end_time": "2024-10-09T17:01:05.042714400Z",
          "start_time": "2024-10-09T17:01:04.923670100Z"
        },
        "collapsed": false
      },
      "id": "b022f737457de813"
    },
    {
      "cell_type": "code",
      "source": [
        "import pandas as pd\n",
        "from sklearn import linear_model\n",
        "import statsmodels.api as sm\n",
        "\n",
        "data = {\n",
        "    \"year\": [2017, 2017, 2017, 2017, 2017, 2017, 2017, 2017, 2017, 2017, 2017, 2017, \n",
        "             2016, 2016, 2016, 2016, 2016, 2016, 2016, 2016, 2016, 2016, 2016, 2016],\n",
        "    \"month\": [12, 11, 10, 9, 8, 7, 6, 5, 4, 3, 2, 1, 12, 11, 10, 9, 8, 7, 6, 5, 4, 3, 2, 1],\n",
        "    \"interest_rate\": [2.75, 2.5, 2.5, 2.5, 2.5, 2.5, 2.5, 2.25, 2.25, 2.25, 2.25, 2, 2, 2, \n",
        "                      1.75, 1.75, 1.75, 1.75, 1.75, 1.75, 1.75, 1.75, 1.75, 1.75],\n",
        "    \"unemployment_rate\": [5.3, 5.3, 5.3, 5.3, 5.4, 5.6, 5.5, 5.5, 5.5, 5.6, 5.7, 5.9, \n",
        "                          5.9, 5.8, 6.1, 6.2, 6.1, 6.1, 5.9, 6.2, 6.2, 6.1, 6.1, 6.1],\n",
        "    \"index_price\": [1464, 1394, 1357, 1293, 1256, 1254, 1234, 1195, 1159, 1167, 1130, \n",
        "                    1075, 1047, 965, 943, 958, 971, 949, 884, 866, 876, 822, 704, 719]\n",
        "}\n",
        "\n",
        "df = pd.DataFrame(data)\n",
        "\n",
        "x = df[[\"interest_rate\", \"unemployment_rate\"]]\n",
        "y = df[\"index_price\"]\n",
        "\n",
        "regression = linear_model.LinearRegression()\n",
        "regression.fit(x, y)\n",
        "predictions_sklearn = regression.predict(x)\n",
        "print(\"Intercept: \\n\", regression.intercept_)\n",
        "print(\"Coefficients: \\n\", regression.coef_)\n",
        "print(\"Correlation R: \\n\", regression.score(x, y))"
      ],
      "outputs": [
        {
          "output_type": "stream",
          "name": "stdout",
          "text": "Intercept: \n 666.0007092827353\nCoefficients: \n [ 480.66938558 -104.2224488 ]\nCorrelation R: \n 0.8919550211885114\n"
        }
      ],
      "execution_count": 104,
      "metadata": {
        "ExecuteTime": {
          "end_time": "2024-10-09T17:03:14.226204600Z",
          "start_time": "2024-10-09T17:03:14.157550600Z"
        },
        "collapsed": false
      },
      "id": "9e2941fb0ab7fb28"
    },
    {
      "cell_type": "markdown",
      "source": [
        "Czy te dwie badane zależności są liniowe, czy nie?\n",
        "Nie"
      ],
      "metadata": {},
      "id": "f3e8e32b"
    },
    {
      "cell_type": "markdown",
      "source": [
        "Skrearn"
      ],
      "metadata": {},
      "id": "68233b55"
    },
    {
      "cell_type": "code",
      "source": [
        "import pandas as pd\n",
        "from sklearn import linear_model\n",
        "import statsmodels.api as sm\n",
        "\n",
        "data = {\n",
        "    \"year\": [2017, 2017, 2017, 2017, 2017, 2017, 2017, 2017, 2017, 2017, 2017, 2017, \n",
        "             2016, 2016, 2016, 2016, 2016, 2016, 2016, 2016, 2016, 2016, 2016, 2016],\n",
        "    \"month\": [12, 11, 10, 9, 8, 7, 6, 5, 4, 3, 2, 1, 12, 11, 10, 9, 8, 7, 6, 5, 4, 3, 2, 1],\n",
        "    \"interest_rate\": [2.75, 2.5, 2.5, 2.5, 2.5, 2.5, 2.5, 2.25, 2.25, 2.25, 2.25, 2, 2, 2, \n",
        "                      1.75, 1.75, 1.75, 1.75, 1.75, 1.75, 1.75, 1.75, 1.75, 1.75],\n",
        "    \"unemployment_rate\": [5.3, 5.3, 5.3, 5.3, 5.4, 5.6, 5.5, 5.5, 5.5, 5.6, 5.7, 5.9, \n",
        "                          5.9, 5.8, 6.1, 6.2, 6.1, 6.1, 5.9, 6.2, 6.2, 6.1, 6.1, 6.1],\n",
        "    \"index_price\": [1464, 1394, 1357, 1293, 1256, 1254, 1234, 1195, 1159, 1167, 1130, \n",
        "                    1075, 1047, 965, 943, 958, 971, 949, 884, 866, 876, 822, 704, 719]\n",
        "}\n",
        "\n",
        "df = pd.DataFrame(data)\n",
        "\n",
        "x = df[[\"interest_rate\", \"unemployment_rate\"]]\n",
        "y = df[\"index_price\"]\n",
        "\n",
        "x = sm.add_constant(x)\n",
        "model = sm.OLS(y, x).fit()\n",
        "predictions_statsmodels = model.predict(x)\n",
        "summary = model.summary()\n",
        "print(summary)"
      ],
      "outputs": [
        {
          "output_type": "stream",
          "name": "stdout",
          "text": "                            OLS Regression Results                            \n==============================================================================\nDep. Variable:            index_price   R-squared:                       0.892\nModel:                            OLS   Adj. R-squared:                  0.882\nMethod:                 Least Squares   F-statistic:                     86.68\nDate:                Wed, 09 Oct 2024   Prob (F-statistic):           7.13e-11\nTime:                        19:03:16   Log-Likelihood:                -135.26\nNo. Observations:                  24   AIC:                             276.5\nDf Residuals:                      21   BIC:                             280.0\nDf Model:                           2                                         \nCovariance Type:            nonrobust                                         \n=====================================================================================\n                        coef    std err          t      P>|t|      [0.025      0.975]\n-------------------------------------------------------------------------------------\nconst               666.0007   1209.359      0.551      0.588   -1848.999    3181.000\ninterest_rate       480.6694    151.319      3.177      0.005     165.984     795.355\nunemployment_rate  -104.2224    156.177     -0.667      0.512    -429.010     220.565\n==============================================================================\nOmnibus:                        3.452   Durbin-Watson:                   0.720\nProb(Omnibus):                  0.178   Jarque-Bera (JB):                2.110\nSkew:                          -0.711   Prob(JB):                        0.348\nKurtosis:                       3.293   Cond. No.                         517.\n==============================================================================\n\n"
        }
      ],
      "execution_count": 105,
      "metadata": {
        "ExecuteTime": {
          "end_time": "2024-10-09T17:03:16.072503800Z",
          "start_time": "2024-10-09T17:03:15.994299700Z"
        },
        "collapsed": false
      },
      "id": "acabe8c3a4f41425"
    },
    {
      "cell_type": "code",
      "source": [],
      "outputs": [],
      "execution_count": null,
      "metadata": {
        "collapsed": false
      },
      "id": "53ccf3bfe67886c4"
    }
  ],
  "metadata": {
    "kernelspec": {
      "display_name": "Python 3",
      "language": "python",
      "name": "python3"
    },
    "language_info": {
      "codemirror_mode": {
        "name": "ipython",
        "version": 2
      },
      "file_extension": ".py",
      "mimetype": "text/x-python",
      "name": "python",
      "nbconvert_exporter": "python",
      "pygments_lexer": "ipython2",
      "version": "2.7.6"
    },
    "nteract": {
      "version": "nteract-front-end@1.0.0"
    }
  },
  "nbformat": 4,
  "nbformat_minor": 5
}