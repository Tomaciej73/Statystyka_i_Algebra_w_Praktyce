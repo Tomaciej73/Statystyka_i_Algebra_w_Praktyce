{
  "cells": [
    {
      "cell_type": "code",
      "source": [
        "import math\n",
        "import statistics\n",
        "import numpy as np\n",
        "import scipy.stats\n",
        "import pandas as pd\n",
        "import matplotlib as pyplot\n"
      ],
      "outputs": [],
      "execution_count": null,
      "metadata": {
        "id": "8_iFxs66Zk0Q"
      }
    },
    {
      "cell_type": "code",
      "source": [
        "x=[8.0, 1, 2.5, 4, 28.0]\n",
        "x_with_nan=[8.0, 1, 2.5,math.nan, 4, 28.0]"
      ],
      "outputs": [],
      "execution_count": null,
      "metadata": {
        "id": "u9ZCASuZZzOQ"
      }
    },
    {
      "cell_type": "code",
      "source": [
        "x"
      ],
      "outputs": [
        {
          "output_type": "execute_result",
          "execution_count": 3,
          "data": {
            "text/plain": "[8.0, 1, 2.5, 4, 28.0]"
          },
          "metadata": {}
        }
      ],
      "execution_count": null,
      "metadata": {
        "colab": {
          "base_uri": "https://localhost:8080/"
        },
        "id": "g9_dufwyaZEh",
        "outputId": "35838078-8788-4cea-a2af-983e5b12fcd0"
      }
    },
    {
      "cell_type": "code",
      "source": [
        "x_with_nan"
      ],
      "outputs": [
        {
          "output_type": "execute_result",
          "execution_count": 4,
          "data": {
            "text/plain": "[8.0, 1, 2.5, nan, 4, 28.0]"
          },
          "metadata": {}
        }
      ],
      "execution_count": null,
      "metadata": {
        "colab": {
          "base_uri": "https://localhost:8080/"
        },
        "id": "__FF4E41aacQ",
        "outputId": "dbb7e7a5-4bd3-4014-f07a-1b69e9bccf89"
      }
    },
    {
      "cell_type": "code",
      "source": [
        "y, y_with_nan=np.array(x), np.array(x_with_nan)\n",
        "z, z_with_nan=pd.Series(x), pd.Series(x_with_nan)"
      ],
      "outputs": [],
      "execution_count": null,
      "metadata": {
        "id": "JH0qjRYxabuw"
      }
    },
    {
      "cell_type": "code",
      "source": [
        "y"
      ],
      "outputs": [
        {
          "output_type": "execute_result",
          "execution_count": 6,
          "data": {
            "text/plain": "array([ 8. ,  1. ,  2.5,  4. , 28. ])"
          },
          "metadata": {}
        }
      ],
      "execution_count": null,
      "metadata": {
        "colab": {
          "base_uri": "https://localhost:8080/"
        },
        "id": "67Y5nYqGauHP",
        "outputId": "0bb25e5c-88ff-4a0a-9c51-074a089966a7"
      }
    },
    {
      "cell_type": "code",
      "source": [
        "y_with_nan"
      ],
      "outputs": [
        {
          "output_type": "execute_result",
          "execution_count": 8,
          "data": {
            "text/plain": "array([ 8. ,  1. ,  2.5,  nan,  4. , 28. ])"
          },
          "metadata": {}
        }
      ],
      "execution_count": null,
      "metadata": {
        "colab": {
          "base_uri": "https://localhost:8080/"
        },
        "id": "ifcjoQ_vavAP",
        "outputId": "27e64e7e-9b68-4747-a7bf-84061539fd73"
      }
    },
    {
      "cell_type": "code",
      "source": [
        "z"
      ],
      "outputs": [
        {
          "output_type": "execute_result",
          "execution_count": 9,
          "data": {
            "text/plain": "0     8.0\n1     1.0\n2     2.5\n3     4.0\n4    28.0\ndtype: float64",
            "text/html": "<div>\n<style scoped>\n    .dataframe tbody tr th:only-of-type {\n        vertical-align: middle;\n    }\n\n    .dataframe tbody tr th {\n        vertical-align: top;\n    }\n\n    .dataframe thead th {\n        text-align: right;\n    }\n</style>\n<table border=\"1\" class=\"dataframe\">\n  <thead>\n    <tr style=\"text-align: right;\">\n      <th></th>\n      <th>0</th>\n    </tr>\n  </thead>\n  <tbody>\n    <tr>\n      <th>0</th>\n      <td>8.0</td>\n    </tr>\n    <tr>\n      <th>1</th>\n      <td>1.0</td>\n    </tr>\n    <tr>\n      <th>2</th>\n      <td>2.5</td>\n    </tr>\n    <tr>\n      <th>3</th>\n      <td>4.0</td>\n    </tr>\n    <tr>\n      <th>4</th>\n      <td>28.0</td>\n    </tr>\n  </tbody>\n</table>\n</div><br><label><b>dtype:</b> float64</label>"
          },
          "metadata": {}
        }
      ],
      "execution_count": null,
      "metadata": {
        "colab": {
          "base_uri": "https://localhost:8080/",
          "height": 241
        },
        "id": "2N6C9kSpav8_",
        "outputId": "01a867f0-5a0b-478c-94d9-59a5116dc2bc"
      }
    },
    {
      "cell_type": "code",
      "source": [
        "z_with_nan"
      ],
      "outputs": [
        {
          "output_type": "execute_result",
          "execution_count": 10,
          "data": {
            "text/plain": "0     8.0\n1     1.0\n2     2.5\n3     NaN\n4     4.0\n5    28.0\ndtype: float64",
            "text/html": "<div>\n<style scoped>\n    .dataframe tbody tr th:only-of-type {\n        vertical-align: middle;\n    }\n\n    .dataframe tbody tr th {\n        vertical-align: top;\n    }\n\n    .dataframe thead th {\n        text-align: right;\n    }\n</style>\n<table border=\"1\" class=\"dataframe\">\n  <thead>\n    <tr style=\"text-align: right;\">\n      <th></th>\n      <th>0</th>\n    </tr>\n  </thead>\n  <tbody>\n    <tr>\n      <th>0</th>\n      <td>8.0</td>\n    </tr>\n    <tr>\n      <th>1</th>\n      <td>1.0</td>\n    </tr>\n    <tr>\n      <th>2</th>\n      <td>2.5</td>\n    </tr>\n    <tr>\n      <th>3</th>\n      <td>NaN</td>\n    </tr>\n    <tr>\n      <th>4</th>\n      <td>4.0</td>\n    </tr>\n    <tr>\n      <th>5</th>\n      <td>28.0</td>\n    </tr>\n  </tbody>\n</table>\n</div><br><label><b>dtype:</b> float64</label>"
          },
          "metadata": {}
        }
      ],
      "execution_count": null,
      "metadata": {
        "colab": {
          "base_uri": "https://localhost:8080/",
          "height": 272
        },
        "id": "hv_lxdxJayJv",
        "outputId": "822599bf-7ab2-4bee-ef15-fbb763b2ccb8"
      }
    },
    {
      "cell_type": "markdown",
      "source": [
        "Średnia arytnetyczna"
      ],
      "metadata": {
        "id": "TPQF6TimlCmM"
      }
    },
    {
      "cell_type": "code",
      "source": [
        "mean_=sum(x)/len(x)"
      ],
      "outputs": [],
      "execution_count": null,
      "metadata": {
        "id": "Le88xO6yazIf"
      }
    },
    {
      "cell_type": "code",
      "source": [
        "mean_"
      ],
      "outputs": [
        {
          "output_type": "execute_result",
          "execution_count": 13,
          "data": {
            "text/plain": "8.7"
          },
          "metadata": {}
        }
      ],
      "execution_count": null,
      "metadata": {
        "colab": {
          "base_uri": "https://localhost:8080/"
        },
        "id": "bygH8HvWbArL",
        "outputId": "5ebff1db-9a9b-4a42-b453-8b976d33c079"
      }
    },
    {
      "cell_type": "code",
      "source": [
        "mean= statistics.mean(x)\n",
        "mean_"
      ],
      "outputs": [
        {
          "output_type": "execute_result",
          "execution_count": 15,
          "data": {
            "text/plain": "8.7"
          },
          "metadata": {}
        }
      ],
      "execution_count": null,
      "metadata": {
        "colab": {
          "base_uri": "https://localhost:8080/"
        },
        "id": "h0QVcG-TbBvb",
        "outputId": "a96f122f-4014-4723-c122-485356c764ec"
      }
    },
    {
      "cell_type": "code",
      "source": [
        "mean_=statistics.fmean(x)\n",
        "mean_"
      ],
      "outputs": [
        {
          "output_type": "execute_result",
          "execution_count": 17,
          "data": {
            "text/plain": "8.7"
          },
          "metadata": {}
        }
      ],
      "execution_count": null,
      "metadata": {
        "colab": {
          "base_uri": "https://localhost:8080/"
        },
        "id": "v6X9cFvJbHPA",
        "outputId": "dcb42d69-0194-4e9e-c0d1-357fc83a8700"
      }
    },
    {
      "cell_type": "markdown",
      "source": [
        "średnia ważona"
      ],
      "metadata": {
        "id": "oOhGn-Z8lJLk"
      }
    },
    {
      "cell_type": "code",
      "source": [
        "w=[0.1, 0.2, 0.3, 0.25, 0.15]\n",
        "wmean=sum(w[i]*x[i] for i in range(len(x)))/sum(w)\n",
        "wmean"
      ],
      "outputs": [
        {
          "output_type": "execute_result",
          "execution_count": 18,
          "data": {
            "text/plain": "6.95"
          },
          "metadata": {}
        }
      ],
      "execution_count": null,
      "metadata": {
        "colab": {
          "base_uri": "https://localhost:8080/"
        },
        "id": "3Ne4KFC1bMeg",
        "outputId": "55bee81d-447e-4fe2-d2db-6e929f00dbf9"
      }
    },
    {
      "cell_type": "code",
      "source": [
        "wmean= sum(x_ * w_ for (x_, w_) in zip(x, w)) / sum(w)\n",
        "wmean"
      ],
      "outputs": [
        {
          "output_type": "execute_result",
          "execution_count": 19,
          "data": {
            "text/plain": "6.95"
          },
          "metadata": {}
        }
      ],
      "execution_count": null,
      "metadata": {
        "colab": {
          "base_uri": "https://localhost:8080/"
        },
        "id": "rSgW8LZ6bahQ",
        "outputId": "4cf296b6-54fa-48fe-9944-fd202df8c119"
      }
    },
    {
      "cell_type": "code",
      "source": [
        "y,z, w=np.array(x), pd.Series(x), np.array(w)\n",
        "wmean=np.average(y, weights=w)\n",
        "wmean"
      ],
      "outputs": [
        {
          "output_type": "execute_result",
          "execution_count": 20,
          "data": {
            "text/plain": "6.95"
          },
          "metadata": {}
        }
      ],
      "execution_count": null,
      "metadata": {
        "colab": {
          "base_uri": "https://localhost:8080/"
        },
        "id": "1Mlnp0-UbgpQ",
        "outputId": "f42f765d-348c-4773-e78e-556aeb3ef16c"
      }
    },
    {
      "cell_type": "code",
      "source": [
        "wmean=np.average(z, weights=w)\n",
        "wmean\n"
      ],
      "outputs": [
        {
          "output_type": "execute_result",
          "execution_count": 21,
          "data": {
            "text/plain": "6.95"
          },
          "metadata": {}
        }
      ],
      "execution_count": null,
      "metadata": {
        "colab": {
          "base_uri": "https://localhost:8080/"
        },
        "id": "PGd4_lhKbmCw",
        "outputId": "504ed43b-3561-44e3-80ab-f52b3e95b3bf"
      }
    },
    {
      "cell_type": "code",
      "source": [
        "(w * y).sum()/w.sum()"
      ],
      "outputs": [
        {
          "output_type": "execute_result",
          "execution_count": 22,
          "data": {
            "text/plain": "6.95"
          },
          "metadata": {}
        }
      ],
      "execution_count": null,
      "metadata": {
        "colab": {
          "base_uri": "https://localhost:8080/"
        },
        "id": "FRAOPEQgbqPg",
        "outputId": "a1687f33-4678-48e4-aae7-0795ffe59fef"
      }
    },
    {
      "cell_type": "markdown",
      "source": [
        "średnia harmoniczna"
      ],
      "metadata": {
        "id": "M-r-U5WHlNF2"
      }
    },
    {
      "cell_type": "code",
      "source": [
        "hmean = len(x)/sum(1/item for item in x)\n",
        "hmean"
      ],
      "outputs": [
        {
          "output_type": "execute_result",
          "execution_count": 23,
          "data": {
            "text/plain": "2.7613412228796843"
          },
          "metadata": {}
        }
      ],
      "execution_count": null,
      "metadata": {
        "colab": {
          "base_uri": "https://localhost:8080/"
        },
        "id": "PuvDFk95cILW",
        "outputId": "bb0ad04d-3e92-4cc7-b6e3-6a394bb2a823"
      }
    },
    {
      "cell_type": "code",
      "source": [
        "hmean = statistics.harmonic_mean(x)\n",
        "hmean"
      ],
      "outputs": [
        {
          "output_type": "execute_result",
          "execution_count": 25,
          "data": {
            "text/plain": "2.7613412228796843"
          },
          "metadata": {}
        }
      ],
      "execution_count": null,
      "metadata": {
        "colab": {
          "base_uri": "https://localhost:8080/"
        },
        "id": "tDd7TE5Acqkg",
        "outputId": "a0d88746-b513-4669-fe19-bf1483ebfda9"
      }
    },
    {
      "cell_type": "code",
      "source": [
        "statistics.harmonic_mean(x_with_nan)"
      ],
      "outputs": [
        {
          "output_type": "execute_result",
          "execution_count": 26,
          "data": {
            "text/plain": "nan"
          },
          "metadata": {}
        }
      ],
      "execution_count": null,
      "metadata": {
        "colab": {
          "base_uri": "https://localhost:8080/"
        },
        "id": "z4Jtn620csyQ",
        "outputId": "c2e62c83-87d8-49a1-828d-3e920a09e0e3"
      }
    },
    {
      "cell_type": "code",
      "source": [
        "statistics.harmonic_mean([1,0,2])"
      ],
      "outputs": [
        {
          "output_type": "execute_result",
          "execution_count": 27,
          "data": {
            "text/plain": "0"
          },
          "metadata": {}
        }
      ],
      "execution_count": null,
      "metadata": {
        "colab": {
          "base_uri": "https://localhost:8080/"
        },
        "id": "TatbzHf1dEHh",
        "outputId": "f8fa5567-91f0-4f7a-d5be-2e84209d6292"
      }
    },
    {
      "cell_type": "code",
      "source": [
        "statistics.harmonic_mean([1,2,-2])"
      ],
      "outputs": [
        {
          "output_type": "error",
          "ename": "StatisticsError",
          "evalue": "harmonic mean does not support negative values",
          "traceback": [
            "\u001b[0;31m---------------------------------------------------------------------------\u001b[0m",
            "\u001b[0;31mStatisticsError\u001b[0m                           Traceback (most recent call last)",
            "\u001b[0;32m<ipython-input-28-eca849304b7c>\u001b[0m in \u001b[0;36m<cell line: 1>\u001b[0;34m()\u001b[0m\n\u001b[0;32m----> 1\u001b[0;31m \u001b[0mstatistics\u001b[0m\u001b[0;34m.\u001b[0m\u001b[0mharmonic_mean\u001b[0m\u001b[0;34m(\u001b[0m\u001b[0;34m[\u001b[0m\u001b[0;36m1\u001b[0m\u001b[0;34m,\u001b[0m\u001b[0;36m2\u001b[0m\u001b[0;34m,\u001b[0m\u001b[0;34m-\u001b[0m\u001b[0;36m2\u001b[0m\u001b[0;34m]\u001b[0m\u001b[0;34m)\u001b[0m\u001b[0;34m\u001b[0m\u001b[0;34m\u001b[0m\u001b[0m\n\u001b[0m",
            "\u001b[0;32m/usr/lib/python3.10/statistics.py\u001b[0m in \u001b[0;36mharmonic_mean\u001b[0;34m(data, weights)\u001b[0m\n\u001b[1;32m    426\u001b[0m     \u001b[0;32mtry\u001b[0m\u001b[0;34m:\u001b[0m\u001b[0;34m\u001b[0m\u001b[0;34m\u001b[0m\u001b[0m\n\u001b[1;32m    427\u001b[0m         \u001b[0mdata\u001b[0m \u001b[0;34m=\u001b[0m \u001b[0m_fail_neg\u001b[0m\u001b[0;34m(\u001b[0m\u001b[0mdata\u001b[0m\u001b[0;34m,\u001b[0m \u001b[0merrmsg\u001b[0m\u001b[0;34m)\u001b[0m\u001b[0;34m\u001b[0m\u001b[0;34m\u001b[0m\u001b[0m\n\u001b[0;32m--> 428\u001b[0;31m         \u001b[0mT\u001b[0m\u001b[0;34m,\u001b[0m \u001b[0mtotal\u001b[0m\u001b[0;34m,\u001b[0m \u001b[0mcount\u001b[0m \u001b[0;34m=\u001b[0m \u001b[0m_sum\u001b[0m\u001b[0;34m(\u001b[0m\u001b[0mw\u001b[0m \u001b[0;34m/\u001b[0m \u001b[0mx\u001b[0m \u001b[0;32mif\u001b[0m \u001b[0mw\u001b[0m \u001b[0;32melse\u001b[0m \u001b[0;36m0\u001b[0m \u001b[0;32mfor\u001b[0m \u001b[0mw\u001b[0m\u001b[0;34m,\u001b[0m \u001b[0mx\u001b[0m \u001b[0;32min\u001b[0m \u001b[0mzip\u001b[0m\u001b[0;34m(\u001b[0m\u001b[0mweights\u001b[0m\u001b[0;34m,\u001b[0m \u001b[0mdata\u001b[0m\u001b[0;34m)\u001b[0m\u001b[0;34m)\u001b[0m\u001b[0;34m\u001b[0m\u001b[0;34m\u001b[0m\u001b[0m\n\u001b[0m\u001b[1;32m    429\u001b[0m     \u001b[0;32mexcept\u001b[0m \u001b[0mZeroDivisionError\u001b[0m\u001b[0;34m:\u001b[0m\u001b[0;34m\u001b[0m\u001b[0;34m\u001b[0m\u001b[0m\n\u001b[1;32m    430\u001b[0m         \u001b[0;32mreturn\u001b[0m \u001b[0;36m0\u001b[0m\u001b[0;34m\u001b[0m\u001b[0;34m\u001b[0m\u001b[0m\n",
            "\u001b[0;32m/usr/lib/python3.10/statistics.py\u001b[0m in \u001b[0;36m_sum\u001b[0;34m(data)\u001b[0m\n\u001b[1;32m    186\u001b[0m     \u001b[0;32mfor\u001b[0m \u001b[0mtyp\u001b[0m\u001b[0;34m,\u001b[0m \u001b[0mvalues\u001b[0m \u001b[0;32min\u001b[0m \u001b[0mgroupby\u001b[0m\u001b[0;34m(\u001b[0m\u001b[0mdata\u001b[0m\u001b[0;34m,\u001b[0m \u001b[0mtype\u001b[0m\u001b[0;34m)\u001b[0m\u001b[0;34m:\u001b[0m\u001b[0;34m\u001b[0m\u001b[0;34m\u001b[0m\u001b[0m\n\u001b[1;32m    187\u001b[0m         \u001b[0mT\u001b[0m \u001b[0;34m=\u001b[0m \u001b[0m_coerce\u001b[0m\u001b[0;34m(\u001b[0m\u001b[0mT\u001b[0m\u001b[0;34m,\u001b[0m \u001b[0mtyp\u001b[0m\u001b[0;34m)\u001b[0m  \u001b[0;31m# or raise TypeError\u001b[0m\u001b[0;34m\u001b[0m\u001b[0;34m\u001b[0m\u001b[0m\n\u001b[0;32m--> 188\u001b[0;31m         \u001b[0;32mfor\u001b[0m \u001b[0mn\u001b[0m\u001b[0;34m,\u001b[0m \u001b[0md\u001b[0m \u001b[0;32min\u001b[0m \u001b[0mmap\u001b[0m\u001b[0;34m(\u001b[0m\u001b[0m_exact_ratio\u001b[0m\u001b[0;34m,\u001b[0m \u001b[0mvalues\u001b[0m\u001b[0;34m)\u001b[0m\u001b[0;34m:\u001b[0m\u001b[0;34m\u001b[0m\u001b[0;34m\u001b[0m\u001b[0m\n\u001b[0m\u001b[1;32m    189\u001b[0m             \u001b[0mcount\u001b[0m \u001b[0;34m+=\u001b[0m \u001b[0;36m1\u001b[0m\u001b[0;34m\u001b[0m\u001b[0;34m\u001b[0m\u001b[0m\n\u001b[1;32m    190\u001b[0m             \u001b[0mpartials\u001b[0m\u001b[0;34m[\u001b[0m\u001b[0md\u001b[0m\u001b[0;34m]\u001b[0m \u001b[0;34m=\u001b[0m \u001b[0mpartials_get\u001b[0m\u001b[0;34m(\u001b[0m\u001b[0md\u001b[0m\u001b[0;34m,\u001b[0m \u001b[0;36m0\u001b[0m\u001b[0;34m)\u001b[0m \u001b[0;34m+\u001b[0m \u001b[0mn\u001b[0m\u001b[0;34m\u001b[0m\u001b[0;34m\u001b[0m\u001b[0m\n",
            "\u001b[0;32m/usr/lib/python3.10/statistics.py\u001b[0m in \u001b[0;36m<genexpr>\u001b[0;34m(.0)\u001b[0m\n\u001b[1;32m    426\u001b[0m     \u001b[0;32mtry\u001b[0m\u001b[0;34m:\u001b[0m\u001b[0;34m\u001b[0m\u001b[0;34m\u001b[0m\u001b[0m\n\u001b[1;32m    427\u001b[0m         \u001b[0mdata\u001b[0m \u001b[0;34m=\u001b[0m \u001b[0m_fail_neg\u001b[0m\u001b[0;34m(\u001b[0m\u001b[0mdata\u001b[0m\u001b[0;34m,\u001b[0m \u001b[0merrmsg\u001b[0m\u001b[0;34m)\u001b[0m\u001b[0;34m\u001b[0m\u001b[0;34m\u001b[0m\u001b[0m\n\u001b[0;32m--> 428\u001b[0;31m         \u001b[0mT\u001b[0m\u001b[0;34m,\u001b[0m \u001b[0mtotal\u001b[0m\u001b[0;34m,\u001b[0m \u001b[0mcount\u001b[0m \u001b[0;34m=\u001b[0m \u001b[0m_sum\u001b[0m\u001b[0;34m(\u001b[0m\u001b[0mw\u001b[0m \u001b[0;34m/\u001b[0m \u001b[0mx\u001b[0m \u001b[0;32mif\u001b[0m \u001b[0mw\u001b[0m \u001b[0;32melse\u001b[0m \u001b[0;36m0\u001b[0m \u001b[0;32mfor\u001b[0m \u001b[0mw\u001b[0m\u001b[0;34m,\u001b[0m \u001b[0mx\u001b[0m \u001b[0;32min\u001b[0m \u001b[0mzip\u001b[0m\u001b[0;34m(\u001b[0m\u001b[0mweights\u001b[0m\u001b[0;34m,\u001b[0m \u001b[0mdata\u001b[0m\u001b[0;34m)\u001b[0m\u001b[0;34m)\u001b[0m\u001b[0;34m\u001b[0m\u001b[0;34m\u001b[0m\u001b[0m\n\u001b[0m\u001b[1;32m    429\u001b[0m     \u001b[0;32mexcept\u001b[0m \u001b[0mZeroDivisionError\u001b[0m\u001b[0;34m:\u001b[0m\u001b[0;34m\u001b[0m\u001b[0;34m\u001b[0m\u001b[0m\n\u001b[1;32m    430\u001b[0m         \u001b[0;32mreturn\u001b[0m \u001b[0;36m0\u001b[0m\u001b[0;34m\u001b[0m\u001b[0;34m\u001b[0m\u001b[0m\n",
            "\u001b[0;32m/usr/lib/python3.10/statistics.py\u001b[0m in \u001b[0;36m_fail_neg\u001b[0;34m(values, errmsg)\u001b[0m\n\u001b[1;32m    300\u001b[0m     \u001b[0;32mfor\u001b[0m \u001b[0mx\u001b[0m \u001b[0;32min\u001b[0m \u001b[0mvalues\u001b[0m\u001b[0;34m:\u001b[0m\u001b[0;34m\u001b[0m\u001b[0;34m\u001b[0m\u001b[0m\n\u001b[1;32m    301\u001b[0m         \u001b[0;32mif\u001b[0m \u001b[0mx\u001b[0m \u001b[0;34m<\u001b[0m \u001b[0;36m0\u001b[0m\u001b[0;34m:\u001b[0m\u001b[0;34m\u001b[0m\u001b[0;34m\u001b[0m\u001b[0m\n\u001b[0;32m--> 302\u001b[0;31m             \u001b[0;32mraise\u001b[0m \u001b[0mStatisticsError\u001b[0m\u001b[0;34m(\u001b[0m\u001b[0merrmsg\u001b[0m\u001b[0;34m)\u001b[0m\u001b[0;34m\u001b[0m\u001b[0;34m\u001b[0m\u001b[0m\n\u001b[0m\u001b[1;32m    303\u001b[0m         \u001b[0;32myield\u001b[0m \u001b[0mx\u001b[0m\u001b[0;34m\u001b[0m\u001b[0;34m\u001b[0m\u001b[0m\n\u001b[1;32m    304\u001b[0m \u001b[0;34m\u001b[0m\u001b[0m\n",
            "\u001b[0;31mStatisticsError\u001b[0m: harmonic mean does not support negative values"
          ]
        }
      ],
      "execution_count": null,
      "metadata": {
        "colab": {
          "base_uri": "https://localhost:8080/",
          "height": 287
        },
        "id": "KYwE_XVtdLnQ",
        "outputId": "ba570937-48c2-43f0-9600-1185b024ba36"
      }
    },
    {
      "cell_type": "code",
      "source": [
        "scipy.stats.hmean(y)"
      ],
      "outputs": [
        {
          "output_type": "execute_result",
          "execution_count": 29,
          "data": {
            "text/plain": "2.7613412228796843"
          },
          "metadata": {}
        }
      ],
      "execution_count": null,
      "metadata": {
        "colab": {
          "base_uri": "https://localhost:8080/"
        },
        "id": "LVuBDGomdQLQ",
        "outputId": "fe31b666-0891-4ab8-cce3-2e3be0b2ee7b"
      }
    },
    {
      "cell_type": "code",
      "source": [
        "scipy.stats.hmean(z)"
      ],
      "outputs": [
        {
          "output_type": "execute_result",
          "execution_count": 30,
          "data": {
            "text/plain": "2.7613412228796843"
          },
          "metadata": {}
        }
      ],
      "execution_count": null,
      "metadata": {
        "colab": {
          "base_uri": "https://localhost:8080/"
        },
        "id": "_KQYodmVdUEQ",
        "outputId": "f35e36cc-6fb7-4462-a91a-cbaee182bbd6"
      }
    },
    {
      "cell_type": "markdown",
      "source": [
        "średnia geometryczna"
      ],
      "metadata": {
        "id": "FkLinwfmlS2c"
      }
    },
    {
      "cell_type": "code",
      "source": [
        "gmean= 1\n",
        "for item in x:\n",
        "    gmean*=item\n"
      ],
      "outputs": [],
      "execution_count": null,
      "metadata": {
        "id": "ivlE3x1DdVaA"
      }
    },
    {
      "cell_type": "code",
      "source": [
        "gmean**=1/len(x)\n",
        "gmean"
      ],
      "outputs": [
        {
          "output_type": "execute_result",
          "execution_count": 32,
          "data": {
            "text/plain": "4.677885674856041"
          },
          "metadata": {}
        }
      ],
      "execution_count": null,
      "metadata": {
        "colab": {
          "base_uri": "https://localhost:8080/"
        },
        "id": "yxxPII0Tde4B",
        "outputId": "9df00c56-84b8-4817-8723-281e0cda602a"
      }
    },
    {
      "cell_type": "markdown",
      "source": [
        "mediana"
      ],
      "metadata": {
        "id": "u9ge5KqblWqG"
      }
    },
    {
      "cell_type": "code",
      "source": [
        "n= len(x)\n",
        "if n%2:\n",
        "    median_=sorted(x)[round(0.5*(n-1))]\n",
        "else:\n",
        "    x_ord, index=sorted(x), round(0.5*n)"
      ],
      "outputs": [],
      "execution_count": null,
      "metadata": {
        "id": "zbNKmcK1dfUh"
      }
    },
    {
      "cell_type": "code",
      "source": [
        "median_"
      ],
      "outputs": [
        {
          "output_type": "execute_result",
          "execution_count": 34,
          "data": {
            "text/plain": "4"
          },
          "metadata": {}
        }
      ],
      "execution_count": null,
      "metadata": {
        "colab": {
          "base_uri": "https://localhost:8080/"
        },
        "id": "DR_0cDEUdjex",
        "outputId": "9a902e6c-7224-415c-b058-7e05120df310"
      }
    },
    {
      "cell_type": "code",
      "source": [
        "median_=statistics.median(x)\n",
        "median_"
      ],
      "outputs": [
        {
          "output_type": "execute_result",
          "execution_count": 36,
          "data": {
            "text/plain": "4"
          },
          "metadata": {}
        }
      ],
      "execution_count": null,
      "metadata": {
        "colab": {
          "base_uri": "https://localhost:8080/"
        },
        "id": "ne2yRk7idppK",
        "outputId": "b03501e3-5778-42bb-9454-2777251b70f5"
      }
    },
    {
      "cell_type": "code",
      "source": [
        "median_=statistics.median(x[:-1])\n",
        "median_"
      ],
      "outputs": [
        {
          "output_type": "execute_result",
          "execution_count": 35,
          "data": {
            "text/plain": "3.25"
          },
          "metadata": {}
        }
      ],
      "execution_count": null,
      "metadata": {
        "colab": {
          "base_uri": "https://localhost:8080/"
        },
        "id": "nh6ZIb2xdkex",
        "outputId": "6519c386-8de0-4ff2-e7b8-e50a5d61e789"
      }
    },
    {
      "cell_type": "code",
      "source": [
        "statistics.median_low(x[:-1])"
      ],
      "outputs": [
        {
          "output_type": "execute_result",
          "execution_count": 37,
          "data": {
            "text/plain": "2.5"
          },
          "metadata": {}
        }
      ],
      "execution_count": null,
      "metadata": {
        "colab": {
          "base_uri": "https://localhost:8080/"
        },
        "id": "R5O2gPfIdpGR",
        "outputId": "3635d2f6-b403-4d6a-de1a-9499343e3961"
      }
    },
    {
      "cell_type": "code",
      "source": [
        "statistics.median_high(x[:-1])"
      ],
      "outputs": [
        {
          "output_type": "execute_result",
          "execution_count": 38,
          "data": {
            "text/plain": "4"
          },
          "metadata": {}
        }
      ],
      "execution_count": null,
      "metadata": {
        "colab": {
          "base_uri": "https://localhost:8080/"
        },
        "id": "i0HhmYQGdvlh",
        "outputId": "0512dc47-f6e6-437d-d63d-6634ce8c4b8e"
      }
    },
    {
      "cell_type": "code",
      "source": [
        "statistics.median(x_with_nan)"
      ],
      "outputs": [
        {
          "output_type": "execute_result",
          "execution_count": 39,
          "data": {
            "text/plain": "6.0"
          },
          "metadata": {}
        }
      ],
      "execution_count": null,
      "metadata": {
        "colab": {
          "base_uri": "https://localhost:8080/"
        },
        "id": "0eKv-bQYdwsQ",
        "outputId": "7550f489-c838-4792-f1d8-2cd7dac10115"
      }
    },
    {
      "cell_type": "code",
      "source": [
        "statistics.median_low(x_with_nan)"
      ],
      "outputs": [
        {
          "output_type": "execute_result",
          "execution_count": 40,
          "data": {
            "text/plain": "4"
          },
          "metadata": {}
        }
      ],
      "execution_count": null,
      "metadata": {
        "colab": {
          "base_uri": "https://localhost:8080/"
        },
        "id": "Jxf5wHN8d1iR",
        "outputId": "77676cca-7d94-4826-a08d-5ea61b16797b"
      }
    },
    {
      "cell_type": "code",
      "source": [
        "statistics.median_high(x_with_nan)"
      ],
      "outputs": [
        {
          "output_type": "execute_result",
          "execution_count": 42,
          "data": {
            "text/plain": "8.0"
          },
          "metadata": {}
        }
      ],
      "execution_count": null,
      "metadata": {
        "colab": {
          "base_uri": "https://localhost:8080/"
        },
        "id": "4N84ImrEd3DR",
        "outputId": "430ab56f-985c-4e8c-cd3f-e1ab602f58a1"
      }
    },
    {
      "cell_type": "markdown",
      "source": [
        "Dwa elementy w śdrodku to 4 i 8.0"
      ],
      "metadata": {
        "id": "UeY0fX1BmgxE"
      }
    },
    {
      "cell_type": "code",
      "source": [
        "median_ = np.median(y)\n",
        "median_"
      ],
      "outputs": [
        {
          "output_type": "execute_result",
          "execution_count": 43,
          "data": {
            "text/plain": "4.0"
          },
          "metadata": {}
        }
      ],
      "execution_count": null,
      "metadata": {
        "colab": {
          "base_uri": "https://localhost:8080/"
        },
        "id": "IppYLhFTd53i",
        "outputId": "9a325bda-bd7e-4a87-9673-3ff5bc910e88"
      }
    },
    {
      "cell_type": "code",
      "source": [
        "median_ = np.median(y[:-1])\n",
        "median_"
      ],
      "outputs": [
        {
          "output_type": "execute_result",
          "execution_count": 44,
          "data": {
            "text/plain": "3.25"
          },
          "metadata": {}
        }
      ],
      "execution_count": null,
      "metadata": {
        "colab": {
          "base_uri": "https://localhost:8080/"
        },
        "id": "Lqdrscacd-Lx",
        "outputId": "16de7432-32fd-4039-d400-56e223f889af"
      }
    },
    {
      "cell_type": "code",
      "source": [
        "np.nanmedian(y_with_nan)"
      ],
      "outputs": [
        {
          "output_type": "execute_result",
          "execution_count": 45,
          "data": {
            "text/plain": "4.0"
          },
          "metadata": {}
        }
      ],
      "execution_count": null,
      "metadata": {
        "colab": {
          "base_uri": "https://localhost:8080/"
        },
        "id": "vRhRXXcTd_yR",
        "outputId": "fd4e0d13-1d62-4199-d08f-8a128cb850d6"
      }
    },
    {
      "cell_type": "code",
      "source": [
        "np.nanmedian(y_with_nan[:-1])"
      ],
      "outputs": [
        {
          "output_type": "execute_result",
          "execution_count": 46,
          "data": {
            "text/plain": "3.25"
          },
          "metadata": {}
        }
      ],
      "execution_count": null,
      "metadata": {
        "colab": {
          "base_uri": "https://localhost:8080/"
        },
        "id": "B9375I0yeBGQ",
        "outputId": "4e21b018-c730-4f79-916d-8196b1c68488"
      }
    },
    {
      "cell_type": "code",
      "source": [
        "z.median()"
      ],
      "outputs": [
        {
          "output_type": "execute_result",
          "execution_count": 49,
          "data": {
            "text/plain": "4.0"
          },
          "metadata": {}
        }
      ],
      "execution_count": null,
      "metadata": {
        "colab": {
          "base_uri": "https://localhost:8080/"
        },
        "id": "ALVN8zJCeCKg",
        "outputId": "57ea0a03-9e39-46b0-f1b0-8f75ecd4c3b1"
      }
    },
    {
      "cell_type": "code",
      "source": [
        "z_with_nan.median()"
      ],
      "outputs": [
        {
          "output_type": "execute_result",
          "execution_count": 48,
          "data": {
            "text/plain": "4.0"
          },
          "metadata": {}
        }
      ],
      "execution_count": null,
      "metadata": {
        "colab": {
          "base_uri": "https://localhost:8080/"
        },
        "id": "xwzKiUFGeFIA",
        "outputId": "99585d4e-b980-4ef1-a576-ab2c5088ae1b"
      }
    },
    {
      "cell_type": "markdown",
      "source": [
        "Tryb"
      ],
      "metadata": {
        "id": "IVuyqytclbRz"
      }
    },
    {
      "cell_type": "code",
      "source": [
        "u= [2,3,2,8,12]\n",
        "mode_=max((u.count(item), item) for item in set(u))[1]"
      ],
      "outputs": [],
      "execution_count": null,
      "metadata": {
        "id": "HA8G9HiieGxR"
      }
    },
    {
      "cell_type": "code",
      "source": [
        "mode_\n"
      ],
      "outputs": [
        {
          "output_type": "execute_result",
          "execution_count": 51,
          "data": {
            "text/plain": "2"
          },
          "metadata": {}
        }
      ],
      "execution_count": null,
      "metadata": {
        "colab": {
          "base_uri": "https://localhost:8080/"
        },
        "id": "fYmvbbB6eUrR",
        "outputId": "ae211f4b-a6f6-4f60-8aba-f4607526a8c0"
      }
    },
    {
      "cell_type": "code",
      "source": [
        "mode_=statistics.mode(u)\n",
        "mode_"
      ],
      "outputs": [
        {
          "output_type": "execute_result",
          "execution_count": 52,
          "data": {
            "text/plain": "2"
          },
          "metadata": {}
        }
      ],
      "execution_count": null,
      "metadata": {
        "colab": {
          "base_uri": "https://localhost:8080/"
        },
        "id": "orqFjqy_eVnB",
        "outputId": "a58a39b1-04dc-419e-b311-13dbaf4487f4"
      }
    },
    {
      "cell_type": "code",
      "source": [
        "mode_=statistics.multimode(u)\n",
        "mode_"
      ],
      "outputs": [
        {
          "output_type": "execute_result",
          "execution_count": 54,
          "data": {
            "text/plain": "[2]"
          },
          "metadata": {}
        }
      ],
      "execution_count": null,
      "metadata": {
        "colab": {
          "base_uri": "https://localhost:8080/"
        },
        "id": "KK8lGoeceZTx",
        "outputId": "a71f56b7-d9c6-465b-dabc-862a601ab20d"
      }
    },
    {
      "cell_type": "code",
      "source": [
        "v=[ 12, 15, 12, 15, 21, 15, 12]\n",
        "statistics.mode(v)"
      ],
      "outputs": [
        {
          "output_type": "execute_result",
          "execution_count": 55,
          "data": {
            "text/plain": "12"
          },
          "metadata": {}
        }
      ],
      "execution_count": null,
      "metadata": {
        "colab": {
          "base_uri": "https://localhost:8080/"
        },
        "id": "tbsDmeOzehZx",
        "outputId": "22499d6f-38bd-4aea-dbf5-9ea6904fb2ae"
      }
    },
    {
      "cell_type": "code",
      "source": [
        "statistics.multimode(v)"
      ],
      "outputs": [
        {
          "output_type": "execute_result",
          "execution_count": 56,
          "data": {
            "text/plain": "[12, 15]"
          },
          "metadata": {}
        }
      ],
      "execution_count": null,
      "metadata": {
        "colab": {
          "base_uri": "https://localhost:8080/"
        },
        "id": "Oh2gTa_meucR",
        "outputId": "1d52687e-e962-444d-87d9-0e0c24fa369c"
      }
    },
    {
      "cell_type": "code",
      "source": [
        "statistics.mode([2, math.nan, 2])"
      ],
      "outputs": [
        {
          "output_type": "execute_result",
          "execution_count": 57,
          "data": {
            "text/plain": "2"
          },
          "metadata": {}
        }
      ],
      "execution_count": null,
      "metadata": {
        "colab": {
          "base_uri": "https://localhost:8080/"
        },
        "id": "591yWk9QewUh",
        "outputId": "ec10bb0a-445f-4aed-f798-a1189ea756f4"
      }
    },
    {
      "cell_type": "code",
      "source": [
        "statistics.multimode([2, math.nan, 2])"
      ],
      "outputs": [
        {
          "output_type": "execute_result",
          "execution_count": 58,
          "data": {
            "text/plain": "[2]"
          },
          "metadata": {}
        }
      ],
      "execution_count": null,
      "metadata": {
        "colab": {
          "base_uri": "https://localhost:8080/"
        },
        "id": "z1tww_eJe8ex",
        "outputId": "c97d5ab7-c32d-415b-dd87-5455ecd7ec1d"
      }
    },
    {
      "cell_type": "code",
      "source": [
        "statistics.mode([2, math.nan, 0, math.nan, 5])"
      ],
      "outputs": [
        {
          "output_type": "execute_result",
          "execution_count": 59,
          "data": {
            "text/plain": "nan"
          },
          "metadata": {}
        }
      ],
      "execution_count": null,
      "metadata": {
        "colab": {
          "base_uri": "https://localhost:8080/"
        },
        "id": "NEn9CT-Oe9hS",
        "outputId": "5cc17b7d-f447-49a0-bb8d-dd35e721a276"
      }
    },
    {
      "cell_type": "code",
      "source": [
        "statistics.multimode([2, math.nan, 0, math.nan, 5])"
      ],
      "outputs": [
        {
          "output_type": "execute_result",
          "execution_count": 60,
          "data": {
            "text/plain": "[nan]"
          },
          "metadata": {}
        }
      ],
      "execution_count": null,
      "metadata": {
        "colab": {
          "base_uri": "https://localhost:8080/"
        },
        "id": "FbQY5UISfDUx",
        "outputId": "4ce2f8a6-a1fa-44de-f008-3a781f4a8402"
      }
    },
    {
      "cell_type": "code",
      "source": [
        "u,v = np.array(u), np.array(v)\n",
        "mode_=scipy.stats.mode(u)\n",
        "mode_"
      ],
      "outputs": [
        {
          "output_type": "execute_result",
          "execution_count": 61,
          "data": {
            "text/plain": "ModeResult(mode=2, count=2)"
          },
          "metadata": {}
        }
      ],
      "execution_count": null,
      "metadata": {
        "colab": {
          "base_uri": "https://localhost:8080/"
        },
        "id": "npurBEOTfFUh",
        "outputId": "39a2ea82-09e3-49b0-ae38-7851350f006c"
      }
    },
    {
      "cell_type": "code",
      "source": [
        "mode_=scipy.stats.mode(v)\n",
        "mode_"
      ],
      "outputs": [
        {
          "output_type": "execute_result",
          "execution_count": 62,
          "data": {
            "text/plain": "ModeResult(mode=12, count=3)"
          },
          "metadata": {}
        }
      ],
      "execution_count": null,
      "metadata": {
        "colab": {
          "base_uri": "https://localhost:8080/"
        },
        "id": "KY6LdG3Sfdoh",
        "outputId": "59ae6f7e-d6c8-4be4-855d-22f10d6be0f5"
      }
    },
    {
      "cell_type": "code",
      "source": [
        "mode_.mode"
      ],
      "outputs": [
        {
          "output_type": "execute_result",
          "execution_count": 63,
          "data": {
            "text/plain": "12"
          },
          "metadata": {}
        }
      ],
      "execution_count": null,
      "metadata": {
        "colab": {
          "base_uri": "https://localhost:8080/"
        },
        "id": "6Ij_GCvnffMB",
        "outputId": "2cc5aef6-8b5b-401a-ab38-050db8522d86"
      }
    },
    {
      "cell_type": "code",
      "source": [
        "mode_.count"
      ],
      "outputs": [
        {
          "output_type": "execute_result",
          "execution_count": 64,
          "data": {
            "text/plain": "3"
          },
          "metadata": {}
        }
      ],
      "execution_count": null,
      "metadata": {
        "colab": {
          "base_uri": "https://localhost:8080/"
        },
        "id": "Eb8_eb7cfhmR",
        "outputId": "96963459-ef3d-471a-d05b-15b9576ea478"
      }
    },
    {
      "cell_type": "code",
      "source": [
        "u, v, w = pd.Series(u), pd.Series(v), pd.Series([2,2,math.nan,2,math.nan])"
      ],
      "outputs": [],
      "execution_count": null,
      "metadata": {
        "id": "EePSSu-dfjOh"
      }
    },
    {
      "cell_type": "code",
      "source": [
        "u.mode()"
      ],
      "outputs": [
        {
          "output_type": "execute_result",
          "execution_count": 66,
          "data": {
            "text/plain": "0    2\ndtype: int64",
            "text/html": "<div>\n<style scoped>\n    .dataframe tbody tr th:only-of-type {\n        vertical-align: middle;\n    }\n\n    .dataframe tbody tr th {\n        vertical-align: top;\n    }\n\n    .dataframe thead th {\n        text-align: right;\n    }\n</style>\n<table border=\"1\" class=\"dataframe\">\n  <thead>\n    <tr style=\"text-align: right;\">\n      <th></th>\n      <th>0</th>\n    </tr>\n  </thead>\n  <tbody>\n    <tr>\n      <th>0</th>\n      <td>2</td>\n    </tr>\n  </tbody>\n</table>\n</div><br><label><b>dtype:</b> int64</label>"
          },
          "metadata": {}
        }
      ],
      "execution_count": null,
      "metadata": {
        "colab": {
          "base_uri": "https://localhost:8080/",
          "height": 115
        },
        "id": "JUguz_-4fnIB",
        "outputId": "b825d421-ef27-4023-dffb-1545353cd033"
      }
    },
    {
      "cell_type": "code",
      "source": [
        "v.mode()"
      ],
      "outputs": [
        {
          "output_type": "execute_result",
          "execution_count": 67,
          "data": {
            "text/plain": "0    12\n1    15\ndtype: int64",
            "text/html": "<div>\n<style scoped>\n    .dataframe tbody tr th:only-of-type {\n        vertical-align: middle;\n    }\n\n    .dataframe tbody tr th {\n        vertical-align: top;\n    }\n\n    .dataframe thead th {\n        text-align: right;\n    }\n</style>\n<table border=\"1\" class=\"dataframe\">\n  <thead>\n    <tr style=\"text-align: right;\">\n      <th></th>\n      <th>0</th>\n    </tr>\n  </thead>\n  <tbody>\n    <tr>\n      <th>0</th>\n      <td>12</td>\n    </tr>\n    <tr>\n      <th>1</th>\n      <td>15</td>\n    </tr>\n  </tbody>\n</table>\n</div><br><label><b>dtype:</b> int64</label>"
          },
          "metadata": {}
        }
      ],
      "execution_count": null,
      "metadata": {
        "colab": {
          "base_uri": "https://localhost:8080/",
          "height": 147
        },
        "id": "8KdGCYe9foJh",
        "outputId": "4e8fada6-d31e-4a79-e900-1e7b2715534e"
      }
    },
    {
      "cell_type": "code",
      "source": [
        "w.mode()"
      ],
      "outputs": [
        {
          "output_type": "execute_result",
          "execution_count": 68,
          "data": {
            "text/plain": "0    2.0\ndtype: float64",
            "text/html": "<div>\n<style scoped>\n    .dataframe tbody tr th:only-of-type {\n        vertical-align: middle;\n    }\n\n    .dataframe tbody tr th {\n        vertical-align: top;\n    }\n\n    .dataframe thead th {\n        text-align: right;\n    }\n</style>\n<table border=\"1\" class=\"dataframe\">\n  <thead>\n    <tr style=\"text-align: right;\">\n      <th></th>\n      <th>0</th>\n    </tr>\n  </thead>\n  <tbody>\n    <tr>\n      <th>0</th>\n      <td>2.0</td>\n    </tr>\n  </tbody>\n</table>\n</div><br><label><b>dtype:</b> float64</label>"
          },
          "metadata": {}
        }
      ],
      "execution_count": null,
      "metadata": {
        "colab": {
          "base_uri": "https://localhost:8080/",
          "height": 115
        },
        "id": "ZrZYPKGkfpJi",
        "outputId": "084214a2-9048-4a3a-e95d-c2d7f9e9b731"
      }
    },
    {
      "cell_type": "markdown",
      "source": [
        "Wariancja\n"
      ],
      "metadata": {
        "id": "pgy8azmmliLU"
      }
    },
    {
      "cell_type": "code",
      "source": [
        "n= len(x)\n",
        "mean_=sum(x)/n\n",
        "var_=sum((item-mean_)**2 for item in x)/(n-1)\n",
        "var_"
      ],
      "outputs": [
        {
          "output_type": "execute_result",
          "execution_count": 69,
          "data": {
            "text/plain": "123.19999999999999"
          },
          "metadata": {}
        }
      ],
      "execution_count": null,
      "metadata": {
        "colab": {
          "base_uri": "https://localhost:8080/"
        },
        "id": "XHQwMvXZfqLR",
        "outputId": "344c803c-d6d9-44d2-887b-437d6707543c"
      }
    },
    {
      "cell_type": "code",
      "source": [
        "var_=statistics.variance(x)\n",
        "var_"
      ],
      "outputs": [
        {
          "output_type": "execute_result",
          "execution_count": 71,
          "data": {
            "text/plain": "123.2"
          },
          "metadata": {}
        }
      ],
      "execution_count": null,
      "metadata": {
        "colab": {
          "base_uri": "https://localhost:8080/"
        },
        "id": "eOrtIGb3fySD",
        "outputId": "8fe9c236-cc76-4622-efc0-dac1a2a51ec3"
      }
    },
    {
      "cell_type": "code",
      "source": [
        "\n",
        "statistics.variance(x_with_nan)"
      ],
      "outputs": [
        {
          "output_type": "error",
          "ename": "ValueError",
          "evalue": "cannot convert NaN to integer ratio",
          "traceback": [
            "\u001b[0;31m---------------------------------------------------------------------------\u001b[0m",
            "\u001b[0;31mValueError\u001b[0m                                Traceback (most recent call last)",
            "\u001b[0;32m<ipython-input-73-c1e9efd57aaa>\u001b[0m in \u001b[0;36m<cell line: 2>\u001b[0;34m()\u001b[0m\n\u001b[1;32m      1\u001b[0m \u001b[0;32mfrom\u001b[0m \u001b[0mos\u001b[0m \u001b[0;32mimport\u001b[0m \u001b[0mstat\u001b[0m\u001b[0;34m\u001b[0m\u001b[0;34m\u001b[0m\u001b[0m\n\u001b[0;32m----> 2\u001b[0;31m \u001b[0mstatistics\u001b[0m\u001b[0;34m.\u001b[0m\u001b[0mvariance\u001b[0m\u001b[0;34m(\u001b[0m\u001b[0mx_with_nan\u001b[0m\u001b[0;34m)\u001b[0m\u001b[0;34m\u001b[0m\u001b[0;34m\u001b[0m\u001b[0m\n\u001b[0m",
            "\u001b[0;32m/usr/lib/python3.10/statistics.py\u001b[0m in \u001b[0;36mvariance\u001b[0;34m(data, xbar)\u001b[0m\n\u001b[1;32m    766\u001b[0m     \u001b[0;32mif\u001b[0m \u001b[0mn\u001b[0m \u001b[0;34m<\u001b[0m \u001b[0;36m2\u001b[0m\u001b[0;34m:\u001b[0m\u001b[0;34m\u001b[0m\u001b[0;34m\u001b[0m\u001b[0m\n\u001b[1;32m    767\u001b[0m         \u001b[0;32mraise\u001b[0m \u001b[0mStatisticsError\u001b[0m\u001b[0;34m(\u001b[0m\u001b[0;34m'variance requires at least two data points'\u001b[0m\u001b[0;34m)\u001b[0m\u001b[0;34m\u001b[0m\u001b[0;34m\u001b[0m\u001b[0m\n\u001b[0;32m--> 768\u001b[0;31m     \u001b[0mT\u001b[0m\u001b[0;34m,\u001b[0m \u001b[0mss\u001b[0m \u001b[0;34m=\u001b[0m \u001b[0m_ss\u001b[0m\u001b[0;34m(\u001b[0m\u001b[0mdata\u001b[0m\u001b[0;34m,\u001b[0m \u001b[0mxbar\u001b[0m\u001b[0;34m)\u001b[0m\u001b[0;34m\u001b[0m\u001b[0;34m\u001b[0m\u001b[0m\n\u001b[0m\u001b[1;32m    769\u001b[0m     \u001b[0;32mreturn\u001b[0m \u001b[0m_convert\u001b[0m\u001b[0;34m(\u001b[0m\u001b[0mss\u001b[0m \u001b[0;34m/\u001b[0m \u001b[0;34m(\u001b[0m\u001b[0mn\u001b[0m \u001b[0;34m-\u001b[0m \u001b[0;36m1\u001b[0m\u001b[0;34m)\u001b[0m\u001b[0;34m,\u001b[0m \u001b[0mT\u001b[0m\u001b[0;34m)\u001b[0m\u001b[0;34m\u001b[0m\u001b[0;34m\u001b[0m\u001b[0m\n\u001b[1;32m    770\u001b[0m \u001b[0;34m\u001b[0m\u001b[0m\n",
            "\u001b[0;32m/usr/lib/python3.10/statistics.py\u001b[0m in \u001b[0;36m_ss\u001b[0;34m(data, c)\u001b[0m\n\u001b[1;32m    707\u001b[0m         \u001b[0;32mreturn\u001b[0m \u001b[0;34m(\u001b[0m\u001b[0mT\u001b[0m\u001b[0;34m,\u001b[0m \u001b[0mtotal\u001b[0m\u001b[0;34m)\u001b[0m\u001b[0;34m\u001b[0m\u001b[0;34m\u001b[0m\u001b[0m\n\u001b[1;32m    708\u001b[0m     \u001b[0mT\u001b[0m\u001b[0;34m,\u001b[0m \u001b[0mtotal\u001b[0m\u001b[0;34m,\u001b[0m \u001b[0mcount\u001b[0m \u001b[0;34m=\u001b[0m \u001b[0m_sum\u001b[0m\u001b[0;34m(\u001b[0m\u001b[0mdata\u001b[0m\u001b[0;34m)\u001b[0m\u001b[0;34m\u001b[0m\u001b[0;34m\u001b[0m\u001b[0m\n\u001b[0;32m--> 709\u001b[0;31m     \u001b[0mmean_n\u001b[0m\u001b[0;34m,\u001b[0m \u001b[0mmean_d\u001b[0m \u001b[0;34m=\u001b[0m \u001b[0;34m(\u001b[0m\u001b[0mtotal\u001b[0m \u001b[0;34m/\u001b[0m \u001b[0mcount\u001b[0m\u001b[0;34m)\u001b[0m\u001b[0;34m.\u001b[0m\u001b[0mas_integer_ratio\u001b[0m\u001b[0;34m(\u001b[0m\u001b[0;34m)\u001b[0m\u001b[0;34m\u001b[0m\u001b[0;34m\u001b[0m\u001b[0m\n\u001b[0m\u001b[1;32m    710\u001b[0m     \u001b[0mpartials\u001b[0m \u001b[0;34m=\u001b[0m \u001b[0mCounter\u001b[0m\u001b[0;34m(\u001b[0m\u001b[0;34m)\u001b[0m\u001b[0;34m\u001b[0m\u001b[0;34m\u001b[0m\u001b[0m\n\u001b[1;32m    711\u001b[0m     \u001b[0;32mfor\u001b[0m \u001b[0mn\u001b[0m\u001b[0;34m,\u001b[0m \u001b[0md\u001b[0m \u001b[0;32min\u001b[0m \u001b[0mmap\u001b[0m\u001b[0;34m(\u001b[0m\u001b[0m_exact_ratio\u001b[0m\u001b[0;34m,\u001b[0m \u001b[0mdata\u001b[0m\u001b[0;34m)\u001b[0m\u001b[0;34m:\u001b[0m\u001b[0;34m\u001b[0m\u001b[0;34m\u001b[0m\u001b[0m\n",
            "\u001b[0;31mValueError\u001b[0m: cannot convert NaN to integer ratio"
          ]
        }
      ],
      "execution_count": null,
      "metadata": {
        "colab": {
          "base_uri": "https://localhost:8080/",
          "height": 304
        },
        "id": "Vw8WUsCnf0ji",
        "outputId": "f7fe9eb1-3f8b-404c-9068-0e11f98ccb49"
      }
    },
    {
      "cell_type": "code",
      "source": [
        "var_= np.var(y, ddof=1)\n",
        "var_"
      ],
      "outputs": [
        {
          "output_type": "execute_result",
          "execution_count": 74,
          "data": {
            "text/plain": "123.19999999999999"
          },
          "metadata": {}
        }
      ],
      "execution_count": null,
      "metadata": {
        "colab": {
          "base_uri": "https://localhost:8080/"
        },
        "id": "YQMiaZaaf8Gh",
        "outputId": "308e9b43-a12e-4f73-ddbd-5c30eb3e72c6"
      }
    },
    {
      "cell_type": "code",
      "source": [
        "var_= v.var(ddof=1)\n",
        "var_"
      ],
      "outputs": [
        {
          "output_type": "execute_result",
          "execution_count": 76,
          "data": {
            "text/plain": "10.285714285714286"
          },
          "metadata": {}
        }
      ],
      "execution_count": null,
      "metadata": {
        "colab": {
          "base_uri": "https://localhost:8080/"
        },
        "id": "52mkDS_HgI9i",
        "outputId": "0eac6358-e92f-4f92-e9aa-07c4878d54ec"
      }
    },
    {
      "cell_type": "code",
      "source": [
        "np.var(y_with_nan, ddof=1)"
      ],
      "outputs": [
        {
          "output_type": "execute_result",
          "execution_count": 77,
          "data": {
            "text/plain": "nan"
          },
          "metadata": {}
        }
      ],
      "execution_count": null,
      "metadata": {
        "colab": {
          "base_uri": "https://localhost:8080/"
        },
        "id": "le2VKu7agVsy",
        "outputId": "d6f2c8ad-7d00-4994-a52b-ce79c401c93c"
      }
    },
    {
      "cell_type": "code",
      "source": [
        "y_with_nan.var(ddof=1)"
      ],
      "outputs": [
        {
          "output_type": "execute_result",
          "execution_count": 78,
          "data": {
            "text/plain": "nan"
          },
          "metadata": {}
        }
      ],
      "execution_count": null,
      "metadata": {
        "colab": {
          "base_uri": "https://localhost:8080/"
        },
        "id": "6Uk9R99igaJi",
        "outputId": "5295e8a1-e384-4eb8-db0d-ca50b1ab28c8"
      }
    },
    {
      "cell_type": "code",
      "source": [
        "np.nanvar(y_with_nan, ddof=1)"
      ],
      "outputs": [
        {
          "output_type": "execute_result",
          "execution_count": 79,
          "data": {
            "text/plain": "123.19999999999999"
          },
          "metadata": {}
        }
      ],
      "execution_count": null,
      "metadata": {
        "colab": {
          "base_uri": "https://localhost:8080/"
        },
        "id": "PXT62y76gRzC",
        "outputId": "69ba0689-b0bc-4214-854b-9dd986ff3bdc"
      }
    },
    {
      "cell_type": "code",
      "source": [
        "z.var(ddof=1)"
      ],
      "outputs": [
        {
          "output_type": "execute_result",
          "execution_count": 80,
          "data": {
            "text/plain": "123.19999999999999"
          },
          "metadata": {}
        }
      ],
      "execution_count": null,
      "metadata": {
        "colab": {
          "base_uri": "https://localhost:8080/"
        },
        "id": "6VwRBIp-ge2C",
        "outputId": "250011f9-a3ed-4071-e366-0b40c4175da0"
      }
    },
    {
      "cell_type": "code",
      "source": [
        "z_with_nan.var(ddof=1)"
      ],
      "outputs": [
        {
          "output_type": "execute_result",
          "execution_count": 81,
          "data": {
            "text/plain": "123.19999999999999"
          },
          "metadata": {}
        }
      ],
      "execution_count": null,
      "metadata": {
        "colab": {
          "base_uri": "https://localhost:8080/"
        },
        "id": "WBjYGClPghgy",
        "outputId": "aa022bd0-70c8-4bcf-a760-853b14e17d8e"
      }
    },
    {
      "cell_type": "markdown",
      "source": [
        "Odchylenie standardowe"
      ],
      "metadata": {
        "id": "44Vs_eWglnzj"
      }
    },
    {
      "cell_type": "code",
      "source": [
        "std_ = var_ ** 0.5\n",
        "std_"
      ],
      "outputs": [
        {
          "output_type": "execute_result",
          "execution_count": 82,
          "data": {
            "text/plain": "3.2071349029490928"
          },
          "metadata": {}
        }
      ],
      "execution_count": null,
      "metadata": {
        "colab": {
          "base_uri": "https://localhost:8080/"
        },
        "id": "Ptlv5kQEgjzC",
        "outputId": "bc656927-533d-4088-c846-fcc6cfea281d"
      }
    },
    {
      "cell_type": "code",
      "source": [
        "std_ = statistics.stdev(x)\n",
        "std_"
      ],
      "outputs": [
        {
          "output_type": "execute_result",
          "execution_count": 83,
          "data": {
            "text/plain": "11.099549540409287"
          },
          "metadata": {}
        }
      ],
      "execution_count": null,
      "metadata": {
        "colab": {
          "base_uri": "https://localhost:8080/"
        },
        "id": "x-ujua3_guzC",
        "outputId": "67e3e128-8f8b-400b-f599-3568866894a3"
      }
    },
    {
      "cell_type": "code",
      "source": [
        "np.std(y,ddof=1)"
      ],
      "outputs": [
        {
          "output_type": "execute_result",
          "execution_count": 84,
          "data": {
            "text/plain": "11.099549540409285"
          },
          "metadata": {}
        }
      ],
      "execution_count": null,
      "metadata": {
        "colab": {
          "base_uri": "https://localhost:8080/"
        },
        "id": "NTdrBRcVgwGC",
        "outputId": "2b4a48a6-b875-448f-d59c-8f4d5bf04bde"
      }
    },
    {
      "cell_type": "code",
      "source": [
        "y.std(ddof=1)"
      ],
      "outputs": [
        {
          "output_type": "execute_result",
          "execution_count": 85,
          "data": {
            "text/plain": "11.099549540409285"
          },
          "metadata": {}
        }
      ],
      "execution_count": null,
      "metadata": {
        "colab": {
          "base_uri": "https://localhost:8080/"
        },
        "id": "Zjcdn8g8g0Iy",
        "outputId": "d519f32c-4a71-4185-b0bb-9a99b9bff059"
      }
    },
    {
      "cell_type": "code",
      "source": [
        "np.std(y_with_nan, ddof=1)"
      ],
      "outputs": [
        {
          "output_type": "execute_result",
          "execution_count": 86,
          "data": {
            "text/plain": "nan"
          },
          "metadata": {}
        }
      ],
      "execution_count": null,
      "metadata": {
        "colab": {
          "base_uri": "https://localhost:8080/"
        },
        "id": "xkEwCdc-g1pS",
        "outputId": "b5cf1722-30da-47e8-eed1-e584dfbeba55"
      }
    },
    {
      "cell_type": "code",
      "source": [
        "y_with_nan.std(ddof=1)"
      ],
      "outputs": [
        {
          "output_type": "execute_result",
          "execution_count": 87,
          "data": {
            "text/plain": "nan"
          },
          "metadata": {}
        }
      ],
      "execution_count": null,
      "metadata": {
        "colab": {
          "base_uri": "https://localhost:8080/"
        },
        "id": "bYQpBv_bg4yB",
        "outputId": "c875c73c-793e-4d10-d751-6c5af8c1c1ff"
      }
    },
    {
      "cell_type": "code",
      "source": [
        "np.nanstd(y_with_nan, ddof=1)"
      ],
      "outputs": [
        {
          "output_type": "execute_result",
          "execution_count": 88,
          "data": {
            "text/plain": "11.099549540409285"
          },
          "metadata": {}
        }
      ],
      "execution_count": null,
      "metadata": {
        "colab": {
          "base_uri": "https://localhost:8080/"
        },
        "id": "jXKOnjMwg8SC",
        "outputId": "a740a5c9-abc0-4604-a0d7-a1b856d90adf"
      }
    },
    {
      "cell_type": "code",
      "source": [
        "z.std(ddof=1)"
      ],
      "outputs": [
        {
          "output_type": "execute_result",
          "execution_count": 89,
          "data": {
            "text/plain": "11.099549540409285"
          },
          "metadata": {}
        }
      ],
      "execution_count": null,
      "metadata": {
        "colab": {
          "base_uri": "https://localhost:8080/"
        },
        "id": "OuD2983UhAZi",
        "outputId": "0bfac9cf-9b8d-41c2-faeb-ec9f10bc5bb5"
      }
    },
    {
      "cell_type": "code",
      "source": [
        "z_with_nan.std(ddof=1)"
      ],
      "outputs": [
        {
          "output_type": "execute_result",
          "execution_count": 90,
          "data": {
            "text/plain": "11.099549540409285"
          },
          "metadata": {}
        }
      ],
      "execution_count": null,
      "metadata": {
        "colab": {
          "base_uri": "https://localhost:8080/"
        },
        "id": "Fo_g4Z-UhDIy",
        "outputId": "b1d89c83-a9c4-4250-b9e6-c5e3292ac83a"
      }
    },
    {
      "cell_type": "markdown",
      "source": [
        "Skośność"
      ],
      "metadata": {
        "id": "CO2pbcallvvr"
      }
    },
    {
      "cell_type": "code",
      "source": [
        "x= [ 8.0, 1, 2.5, 4, 28.0]\n",
        "n= len(x)\n",
        "mean_=sum(x)/n\n",
        "var_ = sum((item-mean_)**2 for item in x)/(n-1)\n",
        "std_=var_**0.5\n",
        "skew_ = (sum((item-mean_)**3 for item in x)*n/((n-1)*(n-2)*std_**3))\n",
        "\n",
        "skew_\n"
      ],
      "outputs": [
        {
          "output_type": "execute_result",
          "execution_count": 91,
          "data": {
            "text/plain": "1.9470432273905929"
          },
          "metadata": {}
        }
      ],
      "execution_count": null,
      "metadata": {
        "colab": {
          "base_uri": "https://localhost:8080/"
        },
        "id": "3XG9Ycu3hEfi",
        "outputId": "13874c38-4351-4a8a-9fb1-43fd38eab03f"
      }
    },
    {
      "cell_type": "markdown",
      "source": [
        "Skośność jest dodatnia\n"
      ],
      "metadata": {
        "id": "1CwbU5ZJhj1S"
      }
    },
    {
      "cell_type": "code",
      "source": [
        "y, y_with_nan = np.array(x), np.array(x_with_nan)\n",
        "scipy.stats.skew(y, bias=False)"
      ],
      "outputs": [
        {
          "output_type": "execute_result",
          "execution_count": 92,
          "data": {
            "text/plain": "1.9470432273905927"
          },
          "metadata": {}
        }
      ],
      "execution_count": null,
      "metadata": {
        "colab": {
          "base_uri": "https://localhost:8080/"
        },
        "id": "q826pDhPhavT",
        "outputId": "a66f7cad-8983-4a00-cd2b-829ee4bcd812"
      }
    },
    {
      "cell_type": "code",
      "source": [
        "scipy.stats.skew(y_with_nan, bias=False)"
      ],
      "outputs": [
        {
          "output_type": "execute_result",
          "execution_count": 93,
          "data": {
            "text/plain": "nan"
          },
          "metadata": {}
        }
      ],
      "execution_count": null,
      "metadata": {
        "colab": {
          "base_uri": "https://localhost:8080/"
        },
        "id": "DCaYfgqkiLDC",
        "outputId": "456f00d5-082f-4491-f6ad-919ed90128cf"
      }
    },
    {
      "cell_type": "code",
      "source": [
        "z, z_with_nan = pd.Series(x), pd.Series(x_with_nan)\n",
        "z.skew()"
      ],
      "outputs": [
        {
          "output_type": "execute_result",
          "execution_count": 94,
          "data": {
            "text/plain": "1.9470432273905924"
          },
          "metadata": {}
        }
      ],
      "execution_count": null,
      "metadata": {
        "colab": {
          "base_uri": "https://localhost:8080/"
        },
        "id": "HcW_Vh21iMUj",
        "outputId": "092fac37-a112-4cde-eacd-d093b1f2be45"
      }
    },
    {
      "cell_type": "code",
      "source": [
        "z_with_nan.skew()"
      ],
      "outputs": [
        {
          "output_type": "execute_result",
          "execution_count": 95,
          "data": {
            "text/plain": "1.9470432273905924"
          },
          "metadata": {}
        }
      ],
      "execution_count": null,
      "metadata": {
        "colab": {
          "base_uri": "https://localhost:8080/"
        },
        "id": "GH6APINbiRBD",
        "outputId": "065db093-2cb5-4de5-9941-62bc7f6a0309"
      }
    },
    {
      "cell_type": "markdown",
      "source": [
        "Kurtoza"
      ],
      "metadata": {
        "id": "QL3NZzqylz6z"
      }
    },
    {
      "cell_type": "code",
      "source": [
        "from scipy.stats import kurtosis"
      ],
      "outputs": [],
      "execution_count": null,
      "metadata": {
        "id": "GblfBWIMiSJy"
      }
    },
    {
      "cell_type": "code",
      "source": [
        "print(kurtosis(x, axis=0, bias=True))"
      ],
      "outputs": [
        {
          "output_type": "stream",
          "name": "stdout",
          "text": "-0.030495095281138695\n"
        }
      ],
      "execution_count": null,
      "metadata": {
        "colab": {
          "base_uri": "https://localhost:8080/"
        },
        "id": "mgfTyMWliUkz",
        "outputId": "61959a63-d660-4a0c-9d17-a91aea4022b7"
      }
    },
    {
      "cell_type": "markdown",
      "source": [
        "Kurtoza zbioru x: -0.030495095281138695\n",
        "\n"
      ],
      "metadata": {
        "id": "RlmlbvD7im_y"
      }
    },
    {
      "cell_type": "markdown",
      "source": [
        "Percentyl"
      ],
      "metadata": {
        "id": "LVfv7YYhl2yN"
      }
    },
    {
      "cell_type": "code",
      "source": [
        "x= [-5.0, -1.1, 0.1, 2.0, 9.0, 12.8, 21.0, 25.8, 41.0]\n",
        "statistics.quantiles(x,n=2)"
      ],
      "outputs": [
        {
          "output_type": "execute_result",
          "execution_count": 98,
          "data": {
            "text/plain": "[9.0]"
          },
          "metadata": {}
        }
      ],
      "execution_count": null,
      "metadata": {
        "colab": {
          "base_uri": "https://localhost:8080/"
        },
        "id": "NiX2WNYvic9z",
        "outputId": "57b88e68-b8d3-4c86-8a31-8b36ab314b39"
      }
    },
    {
      "cell_type": "code",
      "source": [
        "statistics.quantiles(x,n=4,method='inclusive')"
      ],
      "outputs": [
        {
          "output_type": "execute_result",
          "execution_count": 99,
          "data": {
            "text/plain": "[0.1, 9.0, 21.0]"
          },
          "metadata": {}
        }
      ],
      "execution_count": null,
      "metadata": {
        "colab": {
          "base_uri": "https://localhost:8080/"
        },
        "id": "KhF3XlWwi2a5",
        "outputId": "e6b313fe-fa61-441a-c963-6627877922aa"
      }
    },
    {
      "cell_type": "code",
      "source": [
        "y= np.array(x)\n",
        "np.percentile(y,5)"
      ],
      "outputs": [
        {
          "output_type": "execute_result",
          "execution_count": 100,
          "data": {
            "text/plain": "-3.44"
          },
          "metadata": {}
        }
      ],
      "execution_count": null,
      "metadata": {
        "colab": {
          "base_uri": "https://localhost:8080/"
        },
        "id": "92IOgo-Ni4mJ",
        "outputId": "a241dd61-9d47-4329-d277-c1e7a4e17f8b"
      }
    },
    {
      "cell_type": "code",
      "source": [
        "np.percentile(y,95)"
      ],
      "outputs": [
        {
          "output_type": "execute_result",
          "execution_count": 101,
          "data": {
            "text/plain": "34.919999999999995"
          },
          "metadata": {}
        }
      ],
      "execution_count": null,
      "metadata": {
        "colab": {
          "base_uri": "https://localhost:8080/"
        },
        "id": "q8U4gmh6i99y",
        "outputId": "f703eeaa-b3b4-4501-d50f-1cfa71e4dffe"
      }
    },
    {
      "cell_type": "code",
      "source": [
        "np.percentile(y, [25,50, 75])"
      ],
      "outputs": [
        {
          "output_type": "execute_result",
          "execution_count": 102,
          "data": {
            "text/plain": "array([ 0.1,  9. , 21. ])"
          },
          "metadata": {}
        }
      ],
      "execution_count": null,
      "metadata": {
        "colab": {
          "base_uri": "https://localhost:8080/"
        },
        "id": "TA6PNnWZjADC",
        "outputId": "7a0e3d43-c69f-4672-b5f0-6ece23d228b9"
      }
    },
    {
      "cell_type": "code",
      "source": [
        "np.median(y)"
      ],
      "outputs": [
        {
          "output_type": "execute_result",
          "execution_count": 103,
          "data": {
            "text/plain": "9.0"
          },
          "metadata": {}
        }
      ],
      "execution_count": null,
      "metadata": {
        "colab": {
          "base_uri": "https://localhost:8080/"
        },
        "id": "eG3QbPr7jEkC",
        "outputId": "2e88b6a8-0df7-4e96-c98e-a0452648bd5b"
      }
    },
    {
      "cell_type": "code",
      "source": [
        "y_with_nan = np.insert(y, 2, np.nan)\n",
        "y_with_nan"
      ],
      "outputs": [
        {
          "output_type": "execute_result",
          "execution_count": 104,
          "data": {
            "text/plain": "array([-5. , -1.1,  nan,  0.1,  2. ,  9. , 12.8, 21. , 25.8, 41. ])"
          },
          "metadata": {}
        }
      ],
      "execution_count": null,
      "metadata": {
        "colab": {
          "base_uri": "https://localhost:8080/"
        },
        "id": "GlWvndLMjHdS",
        "outputId": "2e523237-5803-4376-899b-7ee809b8aacc"
      }
    },
    {
      "cell_type": "code",
      "source": [
        "np.nanpercentile(y_with_nan, [25,50,75])"
      ],
      "outputs": [
        {
          "output_type": "execute_result",
          "execution_count": 105,
          "data": {
            "text/plain": "array([ 0.1,  9. , 21. ])"
          },
          "metadata": {}
        }
      ],
      "execution_count": null,
      "metadata": {
        "colab": {
          "base_uri": "https://localhost:8080/"
        },
        "id": "l_vkprdjjKwD",
        "outputId": "5cef33f5-7082-4930-f71a-100e16d4a70e"
      }
    },
    {
      "cell_type": "code",
      "source": [
        "np.quantile(y,0.05)"
      ],
      "outputs": [
        {
          "output_type": "execute_result",
          "execution_count": 106,
          "data": {
            "text/plain": "-3.44"
          },
          "metadata": {}
        }
      ],
      "execution_count": null,
      "metadata": {
        "colab": {
          "base_uri": "https://localhost:8080/"
        },
        "id": "bvhh_TGJjOlT",
        "outputId": "2cd50ffd-00a2-454d-e73f-d4eb8935c0bd"
      }
    },
    {
      "cell_type": "code",
      "source": [
        "np.quantile(y,0.95)"
      ],
      "outputs": [
        {
          "output_type": "execute_result",
          "execution_count": 107,
          "data": {
            "text/plain": "34.919999999999995"
          },
          "metadata": {}
        }
      ],
      "execution_count": null,
      "metadata": {
        "colab": {
          "base_uri": "https://localhost:8080/"
        },
        "id": "DwDCABitjP1S",
        "outputId": "1766d369-c367-442c-b55a-62be2414abbd"
      }
    },
    {
      "cell_type": "code",
      "source": [
        "np.quantile(y,[0.25,0.5,0.75])"
      ],
      "outputs": [
        {
          "output_type": "execute_result",
          "execution_count": 108,
          "data": {
            "text/plain": "array([ 0.1,  9. , 21. ])"
          },
          "metadata": {}
        }
      ],
      "execution_count": null,
      "metadata": {
        "colab": {
          "base_uri": "https://localhost:8080/"
        },
        "id": "87svWlbTjSXC",
        "outputId": "648d36a7-a128-4878-e318-c64356da8bf1"
      }
    },
    {
      "cell_type": "code",
      "source": [
        "np.quantile(y_with_nan,[0.25,0.5,0.75])"
      ],
      "outputs": [
        {
          "output_type": "execute_result",
          "execution_count": 109,
          "data": {
            "text/plain": "array([nan, nan, nan])"
          },
          "metadata": {}
        }
      ],
      "execution_count": null,
      "metadata": {
        "colab": {
          "base_uri": "https://localhost:8080/"
        },
        "id": "PSQxzlPEjTcj",
        "outputId": "c869dbe2-fb60-4ae9-8d6d-79a3cb725939"
      }
    },
    {
      "cell_type": "code",
      "source": [
        "z, z_with_nan = pd.Series(y), pd.Series(y_with_nan)\n",
        "z.quantile(0.05)"
      ],
      "outputs": [
        {
          "output_type": "execute_result",
          "execution_count": 110,
          "data": {
            "text/plain": "-3.44"
          },
          "metadata": {}
        }
      ],
      "execution_count": null,
      "metadata": {
        "colab": {
          "base_uri": "https://localhost:8080/"
        },
        "id": "MCjVK1V2jYQi",
        "outputId": "a4d4a454-5aa9-48ba-9356-06c7ebddf42f"
      }
    },
    {
      "cell_type": "code",
      "source": [
        "z.quantile(0.95)"
      ],
      "outputs": [
        {
          "output_type": "execute_result",
          "execution_count": 111,
          "data": {
            "text/plain": "34.919999999999995"
          },
          "metadata": {}
        }
      ],
      "execution_count": null,
      "metadata": {
        "colab": {
          "base_uri": "https://localhost:8080/"
        },
        "id": "Oz2a83bEjcPy",
        "outputId": "3b01bc7d-2f38-41ce-e9ad-739d2a8f576a"
      }
    },
    {
      "cell_type": "code",
      "source": [
        "z.quantile([0.25,0.5,0.75])"
      ],
      "outputs": [
        {
          "output_type": "execute_result",
          "execution_count": 112,
          "data": {
            "text/plain": "0.25     0.1\n0.50     9.0\n0.75    21.0\ndtype: float64",
            "text/html": "<div>\n<style scoped>\n    .dataframe tbody tr th:only-of-type {\n        vertical-align: middle;\n    }\n\n    .dataframe tbody tr th {\n        vertical-align: top;\n    }\n\n    .dataframe thead th {\n        text-align: right;\n    }\n</style>\n<table border=\"1\" class=\"dataframe\">\n  <thead>\n    <tr style=\"text-align: right;\">\n      <th></th>\n      <th>0</th>\n    </tr>\n  </thead>\n  <tbody>\n    <tr>\n      <th>0.25</th>\n      <td>0.1</td>\n    </tr>\n    <tr>\n      <th>0.50</th>\n      <td>9.0</td>\n    </tr>\n    <tr>\n      <th>0.75</th>\n      <td>21.0</td>\n    </tr>\n  </tbody>\n</table>\n</div><br><label><b>dtype:</b> float64</label>"
          },
          "metadata": {}
        }
      ],
      "execution_count": null,
      "metadata": {
        "colab": {
          "base_uri": "https://localhost:8080/",
          "height": 178
        },
        "id": "4oSAV6c0jdvC",
        "outputId": "c955a750-e724-4dfc-f7fa-57ad7882af37"
      }
    },
    {
      "cell_type": "code",
      "source": [
        "z_with_nan.quantile([0.25,0.5,0.75])"
      ],
      "outputs": [
        {
          "output_type": "execute_result",
          "execution_count": 113,
          "data": {
            "text/plain": "0.25     0.1\n0.50     9.0\n0.75    21.0\ndtype: float64",
            "text/html": "<div>\n<style scoped>\n    .dataframe tbody tr th:only-of-type {\n        vertical-align: middle;\n    }\n\n    .dataframe tbody tr th {\n        vertical-align: top;\n    }\n\n    .dataframe thead th {\n        text-align: right;\n    }\n</style>\n<table border=\"1\" class=\"dataframe\">\n  <thead>\n    <tr style=\"text-align: right;\">\n      <th></th>\n      <th>0</th>\n    </tr>\n  </thead>\n  <tbody>\n    <tr>\n      <th>0.25</th>\n      <td>0.1</td>\n    </tr>\n    <tr>\n      <th>0.50</th>\n      <td>9.0</td>\n    </tr>\n    <tr>\n      <th>0.75</th>\n      <td>21.0</td>\n    </tr>\n  </tbody>\n</table>\n</div><br><label><b>dtype:</b> float64</label>"
          },
          "metadata": {}
        }
      ],
      "execution_count": null,
      "metadata": {
        "colab": {
          "base_uri": "https://localhost:8080/",
          "height": 178
        },
        "id": "CkSf3rxWjiWi",
        "outputId": "13d6192d-e3dd-418c-c2c0-2255de9e014c"
      }
    },
    {
      "cell_type": "markdown",
      "source": [
        "Zakres"
      ],
      "metadata": {
        "id": "u_uHGf5Nl7BT"
      }
    },
    {
      "cell_type": "code",
      "source": [
        "np.ptp(y)"
      ],
      "outputs": [
        {
          "output_type": "execute_result",
          "execution_count": 114,
          "data": {
            "text/plain": "46.0"
          },
          "metadata": {}
        }
      ],
      "execution_count": null,
      "metadata": {
        "colab": {
          "base_uri": "https://localhost:8080/"
        },
        "id": "lF0vZXNSjkcj",
        "outputId": "022b2fb0-100a-4069-8731-b5a5d553ca18"
      }
    },
    {
      "cell_type": "code",
      "source": [
        "np.ptp(z)"
      ],
      "outputs": [
        {
          "output_type": "execute_result",
          "execution_count": 115,
          "data": {
            "text/plain": "46.0"
          },
          "metadata": {}
        }
      ],
      "execution_count": null,
      "metadata": {
        "colab": {
          "base_uri": "https://localhost:8080/"
        },
        "id": "vexgcToHjmuW",
        "outputId": "39085234-a9ed-42bd-8834-e4efb6c3a37b"
      }
    },
    {
      "cell_type": "code",
      "source": [
        "np.ptp(y_with_nan)"
      ],
      "outputs": [
        {
          "output_type": "execute_result",
          "execution_count": 116,
          "data": {
            "text/plain": "nan"
          },
          "metadata": {}
        }
      ],
      "execution_count": null,
      "metadata": {
        "colab": {
          "base_uri": "https://localhost:8080/"
        },
        "id": "X6UkFOLcjoqG",
        "outputId": "8ce86a7c-277a-4604-fc6a-5a4b498a4967"
      }
    },
    {
      "cell_type": "code",
      "source": [
        "np.ptp(z_with_nan)"
      ],
      "outputs": [
        {
          "output_type": "execute_result",
          "execution_count": 117,
          "data": {
            "text/plain": "nan"
          },
          "metadata": {}
        }
      ],
      "execution_count": null,
      "metadata": {
        "colab": {
          "base_uri": "https://localhost:8080/"
        },
        "id": "jNlKf-1ajp3G",
        "outputId": "9936001a-551f-4c67-ec42-59cfd930e5fe"
      }
    },
    {
      "cell_type": "code",
      "source": [
        "np.amax(y) - np.amin(y)"
      ],
      "outputs": [
        {
          "output_type": "execute_result",
          "execution_count": 118,
          "data": {
            "text/plain": "46.0"
          },
          "metadata": {}
        }
      ],
      "execution_count": null,
      "metadata": {
        "colab": {
          "base_uri": "https://localhost:8080/"
        },
        "id": "QyXWIDAFjrcG",
        "outputId": "98cd7a51-b314-4528-9f30-6f4ba54e66d8"
      }
    },
    {
      "cell_type": "code",
      "source": [
        "np.nanmax(y_with_nan) - np.nanmin(y_with_nan)"
      ],
      "outputs": [
        {
          "output_type": "execute_result",
          "execution_count": 119,
          "data": {
            "text/plain": "46.0"
          },
          "metadata": {}
        }
      ],
      "execution_count": null,
      "metadata": {
        "colab": {
          "base_uri": "https://localhost:8080/"
        },
        "id": "d_DoOm_xjzZG",
        "outputId": "00e2c67a-f7c4-434e-f046-f2803fc36a66"
      }
    },
    {
      "cell_type": "code",
      "source": [
        "y.max() - y.min()"
      ],
      "outputs": [
        {
          "output_type": "execute_result",
          "execution_count": 120,
          "data": {
            "text/plain": "46.0"
          },
          "metadata": {}
        }
      ],
      "execution_count": null,
      "metadata": {
        "colab": {
          "base_uri": "https://localhost:8080/"
        },
        "id": "xefJPj1-j2tj",
        "outputId": "0a3a2356-e370-4f88-e103-f72e8ca06a08"
      }
    },
    {
      "cell_type": "code",
      "source": [
        "z.max() - z.min()"
      ],
      "outputs": [
        {
          "output_type": "execute_result",
          "execution_count": 121,
          "data": {
            "text/plain": "46.0"
          },
          "metadata": {}
        }
      ],
      "execution_count": null,
      "metadata": {
        "colab": {
          "base_uri": "https://localhost:8080/"
        },
        "id": "mJCHrCGij5Si",
        "outputId": "18db8cdb-026a-4061-a8fd-d78cd60261a0"
      }
    },
    {
      "cell_type": "code",
      "source": [
        "z_with_nan.max() - z_with_nan.min()"
      ],
      "outputs": [
        {
          "output_type": "execute_result",
          "execution_count": 122,
          "data": {
            "text/plain": "46.0"
          },
          "metadata": {}
        }
      ],
      "execution_count": null,
      "metadata": {
        "colab": {
          "base_uri": "https://localhost:8080/"
        },
        "id": "AMUFehKNj6Fz",
        "outputId": "de7a0f12-c5de-41bb-cfaf-6afb284b6c5d"
      }
    },
    {
      "cell_type": "code",
      "source": [
        "quartiles = np.quantile(y, [0.25, 0.75])\n",
        "quartiles[1] - quartiles[0]"
      ],
      "outputs": [
        {
          "output_type": "execute_result",
          "execution_count": 123,
          "data": {
            "text/plain": "20.9"
          },
          "metadata": {}
        }
      ],
      "execution_count": null,
      "metadata": {
        "colab": {
          "base_uri": "https://localhost:8080/"
        },
        "id": "NBfYzUmOj7gD",
        "outputId": "4759eac3-5214-478e-97c4-3bd754d3b32d"
      }
    },
    {
      "cell_type": "code",
      "source": [
        "quartiles = z.quantile([0.25, 0.75])\n",
        "quartiles[0.75] - quartiles[0.25]"
      ],
      "outputs": [
        {
          "output_type": "execute_result",
          "execution_count": 124,
          "data": {
            "text/plain": "20.9"
          },
          "metadata": {}
        }
      ],
      "execution_count": null,
      "metadata": {
        "colab": {
          "base_uri": "https://localhost:8080/"
        },
        "id": "5gZvVEknj-5T",
        "outputId": "f3130779-755d-4da9-b0e9-87d455d07a57"
      }
    },
    {
      "cell_type": "markdown",
      "source": [
        "Podsumowanie statystyk opisowych"
      ],
      "metadata": {
        "id": "zU83jcK-l-18"
      }
    },
    {
      "cell_type": "code",
      "source": [
        "result= scipy.stats.describe(y, ddof=1, bias=False)"
      ],
      "outputs": [],
      "execution_count": null,
      "metadata": {
        "id": "-yqLFPHcj_-z"
      }
    },
    {
      "cell_type": "code",
      "source": [
        "result"
      ],
      "outputs": [
        {
          "output_type": "execute_result",
          "execution_count": 126,
          "data": {
            "text/plain": "DescribeResult(nobs=9, minmax=(-5.0, 41.0), mean=11.733333333333333, variance=227.95749999999998, skewness=0.9027347498723649, kurtosis=0.13502711451354799)"
          },
          "metadata": {}
        }
      ],
      "execution_count": null,
      "metadata": {
        "colab": {
          "base_uri": "https://localhost:8080/"
        },
        "id": "MRobjTOMkEdD",
        "outputId": "f360414a-043e-4308-876c-291662b19b26"
      }
    },
    {
      "cell_type": "code",
      "source": [
        "result.nobs"
      ],
      "outputs": [
        {
          "output_type": "execute_result",
          "execution_count": 128,
          "data": {
            "text/plain": "9"
          },
          "metadata": {}
        }
      ],
      "execution_count": null,
      "metadata": {
        "colab": {
          "base_uri": "https://localhost:8080/"
        },
        "id": "3i45vcl7kFHj",
        "outputId": "fa4b3b20-935a-40e7-bf32-a7c6683f4dff"
      }
    },
    {
      "cell_type": "code",
      "source": [
        "result.minmax[0]"
      ],
      "outputs": [
        {
          "output_type": "execute_result",
          "execution_count": 129,
          "data": {
            "text/plain": "-5.0"
          },
          "metadata": {}
        }
      ],
      "execution_count": null,
      "metadata": {
        "colab": {
          "base_uri": "https://localhost:8080/"
        },
        "id": "HpjrPVtUkHyz",
        "outputId": "e4ab6bc7-5f4d-45a0-aefe-52b1e7380a23"
      }
    },
    {
      "cell_type": "code",
      "source": [
        "result.minmax[1]"
      ],
      "outputs": [
        {
          "output_type": "execute_result",
          "execution_count": 130,
          "data": {
            "text/plain": "41.0"
          },
          "metadata": {}
        }
      ],
      "execution_count": null,
      "metadata": {
        "colab": {
          "base_uri": "https://localhost:8080/"
        },
        "id": "DTfx5ZVtkL1D",
        "outputId": "ff4969b6-9cff-4bfc-8540-36fa2b773ce5"
      }
    },
    {
      "cell_type": "code",
      "source": [
        "result.mean"
      ],
      "outputs": [
        {
          "output_type": "execute_result",
          "execution_count": 131,
          "data": {
            "text/plain": "11.733333333333333"
          },
          "metadata": {}
        }
      ],
      "execution_count": null,
      "metadata": {
        "colab": {
          "base_uri": "https://localhost:8080/"
        },
        "id": "YvOc3R2MkNCD",
        "outputId": "1a9b3603-470e-4b9b-d647-2507fa7b467a"
      }
    },
    {
      "cell_type": "code",
      "source": [
        "result.variance"
      ],
      "outputs": [
        {
          "output_type": "execute_result",
          "execution_count": 132,
          "data": {
            "text/plain": "227.95749999999998"
          },
          "metadata": {}
        }
      ],
      "execution_count": null,
      "metadata": {
        "colab": {
          "base_uri": "https://localhost:8080/"
        },
        "id": "Crzm2ui2kOCT",
        "outputId": "4fa09604-103f-4d0b-ff13-3cdc4104455d"
      }
    },
    {
      "cell_type": "code",
      "source": [
        "result.skewness"
      ],
      "outputs": [
        {
          "output_type": "execute_result",
          "execution_count": 133,
          "data": {
            "text/plain": "0.9027347498723649"
          },
          "metadata": {}
        }
      ],
      "execution_count": null,
      "metadata": {
        "colab": {
          "base_uri": "https://localhost:8080/"
        },
        "id": "NX1MtLl0kPjT",
        "outputId": "2a923488-980a-4fbc-eb23-d6b260d62bfc"
      }
    },
    {
      "cell_type": "code",
      "source": [
        "result.kurtosis"
      ],
      "outputs": [
        {
          "output_type": "execute_result",
          "execution_count": 134,
          "data": {
            "text/plain": "0.13502711451354799"
          },
          "metadata": {}
        }
      ],
      "execution_count": null,
      "metadata": {
        "colab": {
          "base_uri": "https://localhost:8080/"
        },
        "id": "EuCG_IsXkRoT",
        "outputId": "a4a7b4a8-d289-4839-ab59-40752af9f25c"
      }
    },
    {
      "cell_type": "code",
      "source": [
        "result= z.describe()\n",
        "result"
      ],
      "outputs": [
        {
          "output_type": "execute_result",
          "execution_count": 135,
          "data": {
            "text/plain": "count     9.000000\nmean     11.733333\nstd      15.098261\nmin      -5.000000\n25%       0.100000\n50%       9.000000\n75%      21.000000\nmax      41.000000\ndtype: float64",
            "text/html": "<div>\n<style scoped>\n    .dataframe tbody tr th:only-of-type {\n        vertical-align: middle;\n    }\n\n    .dataframe tbody tr th {\n        vertical-align: top;\n    }\n\n    .dataframe thead th {\n        text-align: right;\n    }\n</style>\n<table border=\"1\" class=\"dataframe\">\n  <thead>\n    <tr style=\"text-align: right;\">\n      <th></th>\n      <th>0</th>\n    </tr>\n  </thead>\n  <tbody>\n    <tr>\n      <th>count</th>\n      <td>9.000000</td>\n    </tr>\n    <tr>\n      <th>mean</th>\n      <td>11.733333</td>\n    </tr>\n    <tr>\n      <th>std</th>\n      <td>15.098261</td>\n    </tr>\n    <tr>\n      <th>min</th>\n      <td>-5.000000</td>\n    </tr>\n    <tr>\n      <th>25%</th>\n      <td>0.100000</td>\n    </tr>\n    <tr>\n      <th>50%</th>\n      <td>9.000000</td>\n    </tr>\n    <tr>\n      <th>75%</th>\n      <td>21.000000</td>\n    </tr>\n    <tr>\n      <th>max</th>\n      <td>41.000000</td>\n    </tr>\n  </tbody>\n</table>\n</div><br><label><b>dtype:</b> float64</label>"
          },
          "metadata": {}
        }
      ],
      "execution_count": null,
      "metadata": {
        "colab": {
          "base_uri": "https://localhost:8080/",
          "height": 335
        },
        "id": "gn3nPCPUkSyD",
        "outputId": "7f36d3ee-3d49-4a3b-fc67-23b2f78706f0"
      }
    },
    {
      "cell_type": "code",
      "source": [
        "result['mean']"
      ],
      "outputs": [
        {
          "output_type": "execute_result",
          "execution_count": 136,
          "data": {
            "text/plain": "11.733333333333333"
          },
          "metadata": {}
        }
      ],
      "execution_count": null,
      "metadata": {
        "colab": {
          "base_uri": "https://localhost:8080/"
        },
        "id": "T9xH4rQxkWkz",
        "outputId": "30331f98-20ba-4370-b4f9-d8399cfcd25c"
      }
    },
    {
      "cell_type": "code",
      "source": [
        "result['std']"
      ],
      "outputs": [
        {
          "output_type": "execute_result",
          "execution_count": 137,
          "data": {
            "text/plain": "15.09826148932386"
          },
          "metadata": {}
        }
      ],
      "execution_count": null,
      "metadata": {
        "colab": {
          "base_uri": "https://localhost:8080/"
        },
        "id": "L5mEVXorkZhT",
        "outputId": "6b13c9ed-da18-4878-bf16-f84a91cdca4d"
      }
    },
    {
      "cell_type": "code",
      "source": [
        "result['min']"
      ],
      "outputs": [
        {
          "output_type": "execute_result",
          "execution_count": 138,
          "data": {
            "text/plain": "-5.0"
          },
          "metadata": {}
        }
      ],
      "execution_count": null,
      "metadata": {
        "colab": {
          "base_uri": "https://localhost:8080/"
        },
        "id": "i5Dhgme_kbWj",
        "outputId": "570db804-f689-4de7-eb4a-14a6833ac668"
      }
    },
    {
      "cell_type": "code",
      "source": [
        "result['max']"
      ],
      "outputs": [
        {
          "output_type": "execute_result",
          "execution_count": 139,
          "data": {
            "text/plain": "41.0"
          },
          "metadata": {}
        }
      ],
      "execution_count": null,
      "metadata": {
        "colab": {
          "base_uri": "https://localhost:8080/"
        },
        "id": "2pYvG19Zkcyj",
        "outputId": "0e55d621-915e-4a3b-a5f5-8581a197adcf"
      }
    },
    {
      "cell_type": "code",
      "source": [
        "result['25%']"
      ],
      "outputs": [
        {
          "output_type": "execute_result",
          "execution_count": 140,
          "data": {
            "text/plain": "0.1"
          },
          "metadata": {}
        }
      ],
      "execution_count": null,
      "metadata": {
        "colab": {
          "base_uri": "https://localhost:8080/"
        },
        "id": "ZJguyEitkegz",
        "outputId": "e85c1acc-db6d-4300-a670-2de7dc7b223c"
      }
    },
    {
      "cell_type": "code",
      "source": [
        "result['50%']"
      ],
      "outputs": [
        {
          "output_type": "execute_result",
          "execution_count": 141,
          "data": {
            "text/plain": "9.0"
          },
          "metadata": {}
        }
      ],
      "execution_count": null,
      "metadata": {
        "colab": {
          "base_uri": "https://localhost:8080/"
        },
        "id": "Hwm5qcqWkgpR",
        "outputId": "1f89042f-f158-4ba6-ad3f-d03c501e5c2e"
      }
    },
    {
      "cell_type": "code",
      "source": [
        "result['75%']"
      ],
      "outputs": [
        {
          "output_type": "execute_result",
          "execution_count": 142,
          "data": {
            "text/plain": "21.0"
          },
          "metadata": {}
        }
      ],
      "execution_count": null,
      "metadata": {
        "colab": {
          "base_uri": "https://localhost:8080/"
        },
        "id": "rciCRjUMkibh",
        "outputId": "0c643688-b820-489f-e0b6-460103e322a1"
      }
    },
    {
      "cell_type": "code",
      "source": [],
      "outputs": [],
      "execution_count": null,
      "metadata": {
        "id": "B5PBB4vNkjbR"
      }
    }
  ],
  "metadata": {
    "colab": {
      "provenance": []
    },
    "kernelspec": {
      "name": "python3",
      "display_name": "Python 3"
    },
    "language_info": {
      "name": "python"
    },
    "nteract": {
      "version": "nteract-front-end@1.0.0"
    }
  },
  "nbformat": 4,
  "nbformat_minor": 0
}