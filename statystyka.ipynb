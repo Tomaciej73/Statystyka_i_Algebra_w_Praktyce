{
  "cells": [
    {
      "cell_type": "markdown",
      "source": [
        "Test Shapiro-Wilka"
      ],
      "metadata": {
        "collapsed": false
      },
      "id": "46e0dfa1fdc0b00f"
    },
    {
      "cell_type": "code",
      "source": [
        "from scipy.stats import shapiro\n",
        "\n",
        "data = [0.873, 2.817, 0.121, -0.945, -0.055, -1.436, 0.360, -1.478, -1.637, -1.869]\n",
        "stat, p = shapiro(data)\n",
        "print('stat=%.3f, p=%.3f' % (stat, p))\n",
        "if p > 0.05:\n",
        "    print('Probably Gaussian')\n",
        "else:\n",
        "    print('Probably not Gaussian')"
      ],
      "outputs": [
        {
          "output_type": "stream",
          "name": "stdout",
          "text": "stat=0.895, p=0.193\nProbably Gaussian\n"
        }
      ],
      "execution_count": 3,
      "metadata": {
        "collapsed": true,
        "ExecuteTime": {
          "end_time": "2024-10-16T16:47:52.155277600Z",
          "start_time": "2024-10-16T16:47:52.020658300Z"
        }
      },
      "id": "initial_id"
    },
    {
      "cell_type": "markdown",
      "source": [
        "Test K^2 D'Agostino"
      ],
      "metadata": {
        "collapsed": false
      },
      "id": "1c36fc005f61ebad"
    },
    {
      "cell_type": "code",
      "source": [
        "from scipy.stats import normaltest\n",
        "\n",
        "data = [0.873, 2.817, 0.121, -0.945, -0.055, -1.436, 0.360, -1.478, -1.637, -1.869]\n",
        "stat, p = normaltest(data)\n",
        "print('stat=%.3f, p=%.3f' % (stat, p))\n",
        "if p > 0.05:\n",
        "    print('Probably Gaussian')\n",
        "else:\n",
        "    print('Probably not Gaussian')"
      ],
      "outputs": [
        {
          "output_type": "stream",
          "name": "stdout",
          "text": "stat=3.392, p=0.183\nProbably Gaussian\n"
        }
      ],
      "execution_count": 4,
      "metadata": {
        "collapsed": false,
        "ExecuteTime": {
          "end_time": "2024-10-16T16:47:52.248473300Z",
          "start_time": "2024-10-16T16:47:52.036387800Z"
        }
      },
      "id": "6eb66f9c92acaa65"
    },
    {
      "cell_type": "markdown",
      "source": [
        "Test Andersona-Darlinga"
      ],
      "metadata": {
        "collapsed": false
      },
      "id": "4731d6f3c0660747"
    },
    {
      "cell_type": "code",
      "source": [
        "from scipy.stats import anderson\n",
        "\n",
        "data = [0.873, 2.817, 0.121, -0.945, -0.055, -1.436, 0.360, -1.478, -1.637, -1.869]\n",
        "result = anderson(data)\n",
        "print('stat=%.3f' % (result.statistic))\n",
        "for i in range(len(result.critical_values)):\n",
        "    sl, cv = result.significance_level[i], result.critical_values[i]\n",
        "    if result.statistic < cv:\n",
        "        print('Probably Gaussian at the %.1f%% level' % (sl))\n",
        "    else:\n",
        "        print('Probably not Gaussian at the %.1f%% level' % (sl))"
      ],
      "outputs": [
        {
          "output_type": "stream",
          "name": "stdout",
          "text": "stat=0.424\nProbably Gaussian at the 15.0% level\nProbably Gaussian at the 10.0% level\nProbably Gaussian at the 5.0% level\nProbably Gaussian at the 2.5% level\nProbably Gaussian at the 1.0% level\n"
        }
      ],
      "execution_count": 5,
      "metadata": {
        "collapsed": false,
        "ExecuteTime": {
          "end_time": "2024-10-16T16:47:52.248473300Z",
          "start_time": "2024-10-16T16:47:52.062065900Z"
        }
      },
      "id": "685a491f03429a60"
    },
    {
      "cell_type": "markdown",
      "source": [
        "Współczynnik Korelacji Paersona"
      ],
      "metadata": {
        "collapsed": false
      },
      "id": "16ad7a7b4d6bf491"
    },
    {
      "cell_type": "code",
      "source": [
        "from scipy.stats import pearsonr\n",
        "\n",
        "data1 = [0.873, 2.817, 0.121, -0.945, -0.055, -1.436, 0.360, -1.478, -1.637, -1.869]\n",
        "data2 = [0.353, 3.517, 0.125, -7.545, -0.555, -1.536, 3.350, -1.578, -3.537, -1.579]\n",
        "stat, p = pearsonr(data1, data2)\n",
        "print('stat=%.3f, p=%.3f' % (stat, p))\n",
        "if p > 0.05:\n",
        "    print('Probably independent')\n",
        "else:\n",
        "    print('Probably dependent')"
      ],
      "outputs": [
        {
          "output_type": "stream",
          "name": "stdout",
          "text": "stat=0.688, p=0.028\nProbably dependent\n"
        }
      ],
      "execution_count": 6,
      "metadata": {
        "collapsed": false,
        "ExecuteTime": {
          "end_time": "2024-10-16T16:47:52.248473300Z",
          "start_time": "2024-10-16T16:47:52.077767300Z"
        }
      },
      "id": "de97497b4cb9225e"
    },
    {
      "cell_type": "markdown",
      "source": [
        "Korelacja rang Spearmana"
      ],
      "metadata": {
        "collapsed": false
      },
      "id": "e79d3e2f7de73334"
    },
    {
      "cell_type": "code",
      "source": [
        "from scipy.stats import spearmanr\n",
        "\n",
        "data1 = [0.873, 2.817, 0.121, -0.945, -0.055, -1.436, 0.360, -1.478, -1.637, -1.869]\n",
        "data2 = [0.353, 3.517, 0.125, -7.545, -0.555, -1.536, 3.350, -1.578, -3.537, -1.579]\n",
        "stat, p = spearmanr(data1, data2)\n",
        "print('stat=%.3f, p=%.3f' % (stat, p))\n",
        "if p > 0.05:\n",
        "    print('Probably independent')\n",
        "else:\n",
        "    print('Probably dependent')"
      ],
      "outputs": [
        {
          "output_type": "stream",
          "name": "stdout",
          "text": "stat=0.855, p=0.002\nProbably dependent\n"
        }
      ],
      "execution_count": 7,
      "metadata": {
        "collapsed": false,
        "ExecuteTime": {
          "end_time": "2024-10-16T16:47:52.258615200Z",
          "start_time": "2024-10-16T16:47:52.103511200Z"
        }
      },
      "id": "4821f41ceb0563eb"
    },
    {
      "cell_type": "markdown",
      "source": [
        "Korelacja rang Kendalla"
      ],
      "metadata": {
        "collapsed": false
      },
      "id": "c4db207001f133a9"
    },
    {
      "cell_type": "code",
      "source": [
        "from scipy.stats import kendalltau\n",
        "\n",
        "data1 = [0.873, 2.817, 0.121, -0.945, -0.055, -1.436, 0.360, -1.478, -1.637, -1.869]\n",
        "data2 = [0.353, 3.517, 0.125, -7.545, -0.555, -1.536, 3.350, -1.578, -3.537, -1.579]\n",
        "stat, p = kendalltau(data1, data2)\n",
        "print('stat=%.3f, p=%.3f' % (stat, p))\n",
        "if p > 0.05:\n",
        "    print('Probably independent')\n",
        "else:\n",
        "    print('Probably dependent')"
      ],
      "outputs": [
        {
          "output_type": "stream",
          "name": "stdout",
          "text": "stat=0.733, p=0.002\nProbably dependent\n"
        }
      ],
      "execution_count": 8,
      "metadata": {
        "collapsed": false,
        "ExecuteTime": {
          "end_time": "2024-10-16T16:47:52.258615200Z",
          "start_time": "2024-10-16T16:47:52.129335600Z"
        }
      },
      "id": "f05a55c47dcf6be2"
    },
    {
      "cell_type": "markdown",
      "source": [
        "Test Chi-kwadrat Paersona"
      ],
      "metadata": {
        "collapsed": false
      },
      "id": "ac760e2d344918b4"
    },
    {
      "cell_type": "code",
      "source": [
        "from scipy.stats import chi2_contingency\n",
        "\n",
        "table = [[10, 20, 30], [6, 9, 17]]\n",
        "stat, p, dof, expected = chi2_contingency(table)\n",
        "print('stat=%.3f, p=%.3f' % (stat, p))\n",
        "if p > 0.05:\n",
        "    print('Probably independent')\n",
        "else:\n",
        "    print('Probably dependent')"
      ],
      "outputs": [
        {
          "output_type": "stream",
          "name": "stdout",
          "text": "stat=0.272, p=0.873\nProbably independent\n"
        }
      ],
      "execution_count": 9,
      "metadata": {
        "collapsed": false,
        "ExecuteTime": {
          "end_time": "2024-10-16T16:47:52.284587200Z",
          "start_time": "2024-10-16T16:47:52.155277600Z"
        }
      },
      "id": "df0aac5c39c1d721"
    },
    {
      "cell_type": "markdown",
      "source": [
        "Rozszerzony test pierwiastka jednostkowego Dickeya-Fullera"
      ],
      "metadata": {
        "collapsed": false
      },
      "id": "1b9a69b9e2eca2a4"
    },
    {
      "cell_type": "code",
      "source": [
        "from statsmodels.tsa.stattools import adfuller\n",
        "\n",
        "data = [0, 1, 2, 3, 4, 5, 6, 7, 8, 9]\n",
        "stat, p, lags, obs, crit, t = adfuller(data)\n",
        "print('stat=%.3f, p=%.3f' % (stat, p))\n",
        "if p > 0.05:\n",
        "    print('Probably not Stationary')\n",
        "else:\n",
        "    print('Probably Stationary')"
      ],
      "outputs": [
        {
          "output_type": "stream",
          "name": "stdout",
          "text": "stat=0.517, p=0.985\nProbably not Stationary\n"
        }
      ],
      "execution_count": 10,
      "metadata": {
        "collapsed": false,
        "ExecuteTime": {
          "end_time": "2024-10-16T16:47:53.722353400Z",
          "start_time": "2024-10-16T16:47:52.181019Z"
        }
      },
      "id": "8a2847836593b58e"
    },
    {
      "cell_type": "markdown",
      "source": [
        "Kwiatkowski-Phillips-Schmidt-Shin (test KPSS)"
      ],
      "metadata": {
        "collapsed": false
      },
      "id": "5e4e587cecc2612"
    },
    {
      "cell_type": "code",
      "source": [
        "from statsmodels.tsa.stattools import kpss\n",
        "\n",
        "data = [0, 1, 2, 3, 4, 5, 6, 7, 8, 9]\n",
        "stat, p, lags, crit = kpss(data)\n",
        "print('stat=%.3f, p=%.3f' % (stat, p))\n",
        "if p > 0.05:\n",
        "    print('Probably Stationary')\n",
        "else:\n",
        "    print('Probably not Stationary')"
      ],
      "outputs": [
        {
          "output_type": "stream",
          "name": "stdout",
          "text": "stat=0.594, p=0.023\nProbably not Stationary\n"
        }
      ],
      "execution_count": 11,
      "metadata": {
        "collapsed": false,
        "ExecuteTime": {
          "end_time": "2024-10-16T16:47:53.799745500Z",
          "start_time": "2024-10-16T16:47:53.722353400Z"
        }
      },
      "id": "14d4a48f546a1406"
    },
    {
      "cell_type": "markdown",
      "source": [
        "Test t-studenta"
      ],
      "metadata": {
        "collapsed": false
      },
      "id": "7ff535f2ae84bc36"
    },
    {
      "cell_type": "code",
      "source": [
        "from scipy.stats import ttest_ind\n",
        "\n",
        "data1 = [0.873, 2.817, 0.121, -0.945, -0.055, -1.436, 0.360, -1.478, -1.637, -1.869]\n",
        "data2 = [1.142, -0.432, -0.938, -0.729, -0.846, -0.157, 0.500, 1.183, -1.075, -0.169]\n",
        "stat, p = ttest_ind(data1, data2)\n",
        "print('stat=%.3f, p=%.3f' % (stat, p))\n",
        "if p > 0.05:\n",
        "    print('Probably the same distribution')\n",
        "else:\n",
        "    print('Probably different distributions')"
      ],
      "outputs": [
        {
          "output_type": "stream",
          "name": "stdout",
          "text": "stat=-0.326, p=0.748\nProbably the same distribution\n"
        }
      ],
      "execution_count": 12,
      "metadata": {
        "collapsed": false,
        "ExecuteTime": {
          "end_time": "2024-10-16T16:47:53.799745500Z",
          "start_time": "2024-10-16T16:47:53.748162600Z"
        }
      },
      "id": "377d7c95d2bb7c67"
    },
    {
      "cell_type": "markdown",
      "source": [
        "Parzysty test t-studenta"
      ],
      "metadata": {
        "collapsed": false
      },
      "id": "c62c7a9c1fbf6263"
    },
    {
      "cell_type": "code",
      "source": [
        "from scipy.stats import ttest_rel\n",
        "\n",
        "data1 = [0.873, 2.817, 0.121, -0.945, -0.055, -1.436, 0.360, -1.478, -1.637, -1.869]\n",
        "data2 = [1.142, -0.432, -0.938, -0.729, -0.846, -0.157, 0.500, 1.183, -1.075, -0.169]\n",
        "stat, p = ttest_rel(data1, data2)\n",
        "print('stat=%.3f, p=%.3f' % (stat, p))\n",
        "if p > 0.05:\n",
        "    print('Probably the same distribution')\n",
        "else:\n",
        "    print('Probably different distributions')"
      ],
      "outputs": [
        {
          "output_type": "stream",
          "name": "stdout",
          "text": "stat=-0.334, p=0.746\nProbably the same distribution\n"
        }
      ],
      "execution_count": 13,
      "metadata": {
        "collapsed": false,
        "ExecuteTime": {
          "end_time": "2024-10-16T16:47:53.799745500Z",
          "start_time": "2024-10-16T16:47:53.774041700Z"
        }
      },
      "id": "2cc9cb812277e2dc"
    },
    {
      "cell_type": "markdown",
      "source": [
        "Jednopróbkowy test Z"
      ],
      "metadata": {
        "collapsed": false
      },
      "id": "f83fe7b59f31a96a"
    },
    {
      "cell_type": "code",
      "source": [
        "from statsmodels.stats.weightstats import ztest as ztest\n",
        "\n",
        "data = [88, 92, 94, 94, 96, 97, 97, 97, 99, 99, 105, 109, 109, 109, 110, 112, 112, 113, 114, 115]\n",
        "ztest(data, value=100)"
      ],
      "outputs": [
        {
          "output_type": "execute_result",
          "execution_count": 14,
          "data": {
            "text/plain": "(np.float64(1.5976240527147705), np.float64(0.11012667014384257))"
          },
          "metadata": {}
        }
      ],
      "execution_count": 14,
      "metadata": {
        "collapsed": false,
        "ExecuteTime": {
          "end_time": "2024-10-16T16:47:53.815431500Z",
          "start_time": "2024-10-16T16:47:53.799745500Z"
        }
      },
      "id": "17427ef76e9ec8ff"
    },
    {
      "cell_type": "markdown",
      "source": [
        "Dwupróbkowy test Z"
      ],
      "metadata": {
        "collapsed": false
      },
      "id": "9e1fec36eb12bf2f"
    },
    {
      "cell_type": "code",
      "source": [
        "from statsmodels.stats.weightstats import ztest as ztest\n",
        "\n",
        "cityA = [82, 84, 85, 89, 91, 91, 92, 94, 99, 99, 105, 109, 109, 109, 110, 112, 113, 114, 114]\n",
        "cityB = [90, 91, 91, 95, 95, 99, 99, 108, 109, 109, 114, 115, 116, 117, 128, 129, 130, 133]\n",
        "ztest(cityA, cityB, value=0)"
      ],
      "outputs": [
        {
          "output_type": "execute_result",
          "execution_count": 15,
          "data": {
            "text/plain": "(np.float64(-2.1890422075714837), np.float64(0.028593772399891013))"
          },
          "metadata": {}
        }
      ],
      "execution_count": 15,
      "metadata": {
        "collapsed": false,
        "ExecuteTime": {
          "end_time": "2024-10-16T16:47:53.892869900Z",
          "start_time": "2024-10-16T16:47:53.815431500Z"
        }
      },
      "id": "ec1948206c646292"
    },
    {
      "cell_type": "markdown",
      "source": [
        "Test Analiza Wariancji (ANOVA)"
      ],
      "metadata": {
        "collapsed": false
      },
      "id": "b50aea6b47fd6e1b"
    },
    {
      "cell_type": "code",
      "source": [
        "from scipy.stats import f_oneway\n",
        "\n",
        "data1 = [0.873, 2.817, 0.121, -0.945, -0.055, -1.436, 0.360, -1.478, -1.637, -1.869]\n",
        "data2 = [1.142, -0.432, -0.938, -0.729, -0.846, -0.157, 0.500, 1.183, -1.075, -0.169]\n",
        "data3 = [-0.208, 0.696, 0.928, -1.148, -0.213, 0.229, 0.137, 0.269, -0.870, -1.204]\n",
        "stat, p = f_oneway(data1, data2, data3)\n",
        "print('stat=%.3f, p=%.3f' % (stat, p))\n",
        "if p > 0.05:\n",
        "    print('Probably the same distribution')\n",
        "else:\n",
        "    print('Probably different distributions')"
      ],
      "outputs": [
        {
          "output_type": "stream",
          "name": "stdout",
          "text": "stat=0.096, p=0.908\nProbably the same distribution\n"
        }
      ],
      "execution_count": 16,
      "metadata": {
        "collapsed": false,
        "ExecuteTime": {
          "end_time": "2024-10-16T16:47:53.892869900Z",
          "start_time": "2024-10-16T16:47:53.841264800Z"
        }
      },
      "id": "d3a2f1c0ba43e29e"
    },
    {
      "cell_type": "markdown",
      "source": [
        "Test U Manna-Whitneya"
      ],
      "metadata": {
        "collapsed": false
      },
      "id": "77fd41354e33a9d"
    },
    {
      "cell_type": "code",
      "source": [
        "from scipy.stats import mannwhitneyu\n",
        "\n",
        "data1 = [0.873, 2.817, 0.121, -0.945, -0.055, -1.436, 0.360, -1.478, -1.637, -1.869]\n",
        "data2 = [1.142, -0.432, -0.938, -0.729, -0.846, -0.157, 0.500, 1.183, -1.075, -0.169]\n",
        "stat, p = mannwhitneyu(data1, data2)\n",
        "print('stat=%.3f, p=%.3f' % (stat, p))\n",
        "if p > 0.05:\n",
        "    print('Probably the same distribution')\n",
        "else:\n",
        "    print('Probably different distributions')"
      ],
      "outputs": [
        {
          "output_type": "stream",
          "name": "stdout",
          "text": "stat=40.000, p=0.473\nProbably the same distribution\n"
        }
      ],
      "execution_count": 17,
      "metadata": {
        "collapsed": false,
        "ExecuteTime": {
          "end_time": "2024-10-16T16:47:53.892869900Z",
          "start_time": "2024-10-16T16:47:53.867123700Z"
        }
      },
      "id": "b2d32d9a62a4c6da"
    },
    {
      "cell_type": "markdown",
      "source": [
        "Test Wilcoxona dla rang znakowych"
      ],
      "metadata": {
        "collapsed": false
      },
      "id": "aab2a43a77732860"
    },
    {
      "cell_type": "code",
      "source": [
        "from scipy.stats import wilcoxon\n",
        "\n",
        "data1 = [0.873, 2.817, 0.121, -0.945, -0.055, -1.436, 0.360, -1.478, -1.637, -1.869]\n",
        "data2 = [1.142, -0.432, -0.938, -0.729, -0.846, -0.157, 0.500, 1.183, -1.075, -0.169]\n",
        "stat, p = wilcoxon(data1, data2)\n",
        "print('stat=%.3f, p=%.3f' % (stat, p))\n",
        "if p > 0.05:\n",
        "    print('Probably the same distribution')\n",
        "else:\n",
        "    print('Probably different distributions')"
      ],
      "outputs": [
        {
          "output_type": "stream",
          "name": "stdout",
          "text": "stat=21.000, p=0.557\nProbably the same distribution\n"
        }
      ],
      "execution_count": 18,
      "metadata": {
        "collapsed": false,
        "ExecuteTime": {
          "end_time": "2024-10-16T16:47:53.908911900Z",
          "start_time": "2024-10-16T16:47:53.892869900Z"
        }
      },
      "id": "6f1fb491507157fa"
    },
    {
      "cell_type": "markdown",
      "source": [
        "Test H Kruskala-Wallisa"
      ],
      "metadata": {
        "collapsed": false
      },
      "id": "da4b7cc7c07de680"
    },
    {
      "cell_type": "code",
      "source": [
        "from scipy.stats import kruskal\n",
        "\n",
        "data1 = [0.873, 2.817, 0.121, -0.945, -0.055, -1.436, 0.360, -1.478, -1.637, -1.869]\n",
        "data2 = [1.142, -0.432, -0.938, -0.729, -0.846, -0.157, 0.500, 1.183, -1.075, -0.169]\n",
        "stat, p = kruskal(data1, data2)\n",
        "print('stat=%.3f, p=%.3f' % (stat, p))\n",
        "if p > 0.05:\n",
        "    print('Probably the same distribution')\n",
        "else:\n",
        "    print('Probably different distributions')"
      ],
      "outputs": [
        {
          "output_type": "stream",
          "name": "stdout",
          "text": "stat=0.571, p=0.450\nProbably the same distribution\n"
        }
      ],
      "execution_count": 19,
      "metadata": {
        "collapsed": false,
        "ExecuteTime": {
          "end_time": "2024-10-16T16:47:53.986522600Z",
          "start_time": "2024-10-16T16:47:53.908911900Z"
        }
      },
      "id": "e46356beca3a4c7d"
    },
    {
      "cell_type": "markdown",
      "source": [
        "Test Friedmana"
      ],
      "metadata": {
        "collapsed": false
      },
      "id": "828dc72e7a343e8f"
    },
    {
      "cell_type": "code",
      "source": [
        "from scipy.stats import friedmanchisquare\n",
        "\n",
        "data1 = [0.873, 2.817, 0.121, -0.945, -0.055, -1.436, 0.360, -1.478, -1.637, -1.869]\n",
        "data2 = [1.142, -0.432, -0.938, -0.729, -0.846, -0.157, 0.500, 1.183, -1.075, -0.169]\n",
        "data3 = [-0.208, 0.696, 0.928, -1.148, -0.213, 0.229, 0.137, 0.269, -0.870, -1.204]\n",
        "stat, p = friedmanchisquare(data1, data2, data3)\n",
        "print('stat=%.3f, p=%.3f' % (stat, p))\n",
        "if p > 0.05:\n",
        "    print('Probably the same distribution')\n",
        "else:\n",
        "    print('Probably different distributions')"
      ],
      "outputs": [
        {
          "output_type": "stream",
          "name": "stdout",
          "text": "stat=0.800, p=0.670\nProbably the same distribution\n"
        }
      ],
      "execution_count": 20,
      "metadata": {
        "collapsed": false,
        "ExecuteTime": {
          "end_time": "2024-10-16T16:47:53.996592800Z",
          "start_time": "2024-10-16T16:47:53.934855Z"
        }
      },
      "id": "e80df0d08819f005"
    }
  ],
  "metadata": {
    "kernelspec": {
      "display_name": "Python 3",
      "language": "python",
      "name": "python3"
    },
    "language_info": {
      "codemirror_mode": {
        "name": "ipython",
        "version": 2
      },
      "file_extension": ".py",
      "mimetype": "text/x-python",
      "name": "python",
      "nbconvert_exporter": "python",
      "pygments_lexer": "ipython2",
      "version": "2.7.6"
    },
    "nteract": {
      "version": "nteract-front-end@1.0.0"
    }
  },
  "nbformat": 4,
  "nbformat_minor": 5
}